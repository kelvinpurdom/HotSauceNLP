{
 "cells": [
  {
   "cell_type": "markdown",
   "metadata": {
    "id": "R2tKIqYh0zAx"
   },
   "source": [
    "# Hot Sauce NLP\n"
   ]
  },
  {
   "cell_type": "markdown",
   "metadata": {},
   "source": [
    "### web scraping"
   ]
  },
  {
   "cell_type": "code",
   "execution_count": 1,
   "metadata": {
    "executionInfo": {
     "elapsed": 1043,
     "status": "ok",
     "timestamp": 1621241591029,
     "user": {
      "displayName": "Bruno Lajoie",
      "photoUrl": "https://lh3.googleusercontent.com/a-/AOh14Gg0dl6gThG8gOPbCvHbgt62zQnsi8cgbQ7C5HkD_Cg=s64",
      "userId": "15793030209206844069"
     },
     "user_tz": -120
    },
    "id": "KkhVEDw80zAz"
   },
   "outputs": [],
   "source": [
    "import requests\n",
    "from bs4 import BeautifulSoup\n",
    "\n",
    "import numpy as np\n",
    "import pandas as pd\n",
    "\n",
    "%matplotlib inline\n",
    "import matplotlib"
   ]
  },
  {
   "cell_type": "code",
   "execution_count": 2,
   "metadata": {},
   "outputs": [],
   "source": [
    "def fetch_page(page):\n",
    "    print(f\"scraping page {page + 1}\")\n",
    "    response = requests.get(\n",
    "        f'https://hotsaucefever.com/hotsauce/',\n",
    "        headers={\"Accept-Language\":\"en-US\"}\n",
    "    )\n",
    "    soup = BeautifulSoup(response.content, \"html.parser\")\n",
    "    return soup"
   ]
  },
  {
   "cell_type": "markdown",
   "metadata": {},
   "source": []
  },
  {
   "cell_type": "code",
   "execution_count": 3,
   "metadata": {},
   "outputs": [],
   "source": [
    "\n",
    "def add_sauces_to_dict(soup, dict):\n",
    "    for sauce_html in soup.find_all(class_='detail'):\n",
    "        dict['Hot Sauce'].append(sauce_html.find('h2').find('a').string)\n",
    "        dict['Rating'].append(sauce_html.find('h3').find('span').string)\n",
    "        dict['Makers'].append(\n",
    "            sauce_html.find(class_=\"list-txt\").get_text())"
   ]
  },
  {
   "cell_type": "code",
   "execution_count": 4,
   "metadata": {},
   "outputs": [],
   "source": [
    "def create_sauces_df(max_page):\n",
    "    sauces_dict = {'Hot Sauce': [], 'Rating': [], 'Makers': []}\n",
    "    for page in range(max_page):\n",
    "        soup = fetch_page(page)\n",
    "        add_sauces_to_dict(soup, sauces_dict)\n",
    "    return pd.DataFrame.from_dict(sauces_dict)"
   ]
  },
  {
   "cell_type": "code",
   "execution_count": 5,
   "metadata": {},
   "outputs": [
    {
     "name": "stdout",
     "output_type": "stream",
     "text": [
      "scraping page 1\n",
      "scraping page 2\n",
      "scraping page 3\n",
      "scraping page 4\n",
      "scraping page 5\n",
      "scraping page 6\n",
      "scraping page 7\n",
      "scraping page 8\n",
      "scraping page 9\n",
      "scraping page 10\n",
      "scraping page 11\n",
      "scraping page 12\n",
      "scraping page 13\n",
      "scraping page 14\n",
      "scraping page 15\n",
      "scraping page 16\n",
      "scraping page 17\n",
      "scraping page 18\n",
      "scraping page 19\n",
      "scraping page 20\n",
      "scraping page 21\n",
      "scraping page 22\n",
      "scraping page 23\n",
      "scraping page 24\n",
      "scraping page 25\n"
     ]
    },
    {
     "data": {
      "text/plain": [
       "(625, 3)"
      ]
     },
     "execution_count": 5,
     "metadata": {},
     "output_type": "execute_result"
    }
   ],
   "source": [
    "sauces_df = create_sauces_df(25)\n",
    "sauces_df.shape"
   ]
  },
  {
   "cell_type": "markdown",
   "metadata": {},
   "source": [
    "### Sorting the DF"
   ]
  },
  {
   "cell_type": "code",
   "execution_count": 6,
   "metadata": {},
   "outputs": [],
   "source": [
    "# new data frame with split value columns\n",
    "new = sauces_df[\"Makers\"].str.split(\"Maker:\", n =1, expand = True)\n"
   ]
  },
  {
   "cell_type": "code",
   "execution_count": 7,
   "metadata": {},
   "outputs": [],
   "source": [
    "new1 = new[1].str.split(\":\", expand = True)\n"
   ]
  },
  {
   "cell_type": "markdown",
   "metadata": {},
   "source": [
    "#### stripping unwanted html"
   ]
  },
  {
   "cell_type": "code",
   "execution_count": 8,
   "metadata": {},
   "outputs": [],
   "source": [
    "cols = [0, 1, 2]\n",
    "new1[cols] = new1[cols].apply(lambda x: x.str.strip('%\\n'))\n",
    "new1[cols] = new1[cols].apply(lambda x: x.str.strip(' \\n%'))\n",
    "new1[cols] = new1[cols].apply(lambda x: x.str.strip('%\\n'))\n",
    "new1[cols] = new1[cols].apply(lambda x: x.str.strip('%\\nPepper(s)'))\n",
    "new1[cols] = new1[cols].apply(lambda x: x.str.strip('\\n'))\n",
    "new1[cols] = new1[cols].apply(lambda x: x.str.strip('SHU'))"
   ]
  },
  {
   "cell_type": "markdown",
   "metadata": {},
   "source": [
    "#### Merging 2 DF's"
   ]
  },
  {
   "cell_type": "code",
   "execution_count": 9,
   "metadata": {},
   "outputs": [],
   "source": [
    "result = pd.concat([sauces_df, new1], axis=1, ignore_index=True)\n",
    "result.drop(result.columns[[2]], axis=1, inplace=True)\n",
    "new2 = result[0].str.split(\" - \", expand = True)"
   ]
  },
  {
   "cell_type": "code",
   "execution_count": 10,
   "metadata": {},
   "outputs": [],
   "source": [
    "result1 = pd.concat([result, new2], axis=1, ignore_index=True)\n",
    "result1.drop(result1.columns[[0]], axis=1, inplace=True)\n",
    "result1.columns = ['Rating', 'Address', 'Peppers', 'Scoville', 'Company', 'Sauce']\n",
    "result1 = result1[['Sauce', 'Company', 'Rating', 'Scoville', 'Address']]"
   ]
  },
  {
   "cell_type": "code",
   "execution_count": 11,
   "metadata": {},
   "outputs": [
    {
     "data": {
      "text/html": [
       "<div>\n",
       "<style scoped>\n",
       "    .dataframe tbody tr th:only-of-type {\n",
       "        vertical-align: middle;\n",
       "    }\n",
       "\n",
       "    .dataframe tbody tr th {\n",
       "        vertical-align: top;\n",
       "    }\n",
       "\n",
       "    .dataframe thead th {\n",
       "        text-align: right;\n",
       "    }\n",
       "</style>\n",
       "<table border=\"1\" class=\"dataframe\">\n",
       "  <thead>\n",
       "    <tr style=\"text-align: right;\">\n",
       "      <th></th>\n",
       "      <th>Sauce</th>\n",
       "      <th>Company</th>\n",
       "      <th>Rating</th>\n",
       "      <th>Scoville</th>\n",
       "      <th>Address</th>\n",
       "    </tr>\n",
       "  </thead>\n",
       "  <tbody>\n",
       "    <tr>\n",
       "      <th>0</th>\n",
       "      <td>Jalapeño</td>\n",
       "      <td>Whitehouse Station Sauce Company</td>\n",
       "      <td>N/A</td>\n",
       "      <td>None</td>\n",
       "      <td>Whitehouse Station Sauce Company, Whitehouse S...</td>\n",
       "    </tr>\n",
       "    <tr>\n",
       "      <th>1</th>\n",
       "      <td>Black Garlic</td>\n",
       "      <td>Jersey Barnfire</td>\n",
       "      <td>None</td>\n",
       "      <td>None</td>\n",
       "      <td>Jersey Barnfire, Sparta, NJ, United States\\n  ...</td>\n",
       "    </tr>\n",
       "    <tr>\n",
       "      <th>2</th>\n",
       "      <td>Jah Mama Sauce</td>\n",
       "      <td>Roofeeo Landis</td>\n",
       "      <td>N/A</td>\n",
       "      <td>None</td>\n",
       "      <td>Roofeeo Landis, Los Angeles , CA, United State...</td>\n",
       "    </tr>\n",
       "    <tr>\n",
       "      <th>3</th>\n",
       "      <td>Purple Haze Double Dose</td>\n",
       "      <td>Ric Orlando's Best</td>\n",
       "      <td>N/A</td>\n",
       "      <td>None</td>\n",
       "      <td>Ric Orlando's Best, West Hurley, NY, United St...</td>\n",
       "    </tr>\n",
       "    <tr>\n",
       "      <th>4</th>\n",
       "      <td>Pepper Pastry</td>\n",
       "      <td>Hell's Kitchen Hot Sauce</td>\n",
       "      <td>N/A</td>\n",
       "      <td>None</td>\n",
       "      <td>ell's Kitchen Hot Sauce, New York, NY, United ...</td>\n",
       "    </tr>\n",
       "    <tr>\n",
       "      <th>...</th>\n",
       "      <td>...</td>\n",
       "      <td>...</td>\n",
       "      <td>...</td>\n",
       "      <td>...</td>\n",
       "      <td>...</td>\n",
       "    </tr>\n",
       "    <tr>\n",
       "      <th>620</th>\n",
       "      <td>Fermented Habanero Hot Sauce</td>\n",
       "      <td>Iggy's</td>\n",
       "      <td>N/A</td>\n",
       "      <td>None</td>\n",
       "      <td>Iggy's Alive &amp; Cultured, Bainbridge Island, WA...</td>\n",
       "    </tr>\n",
       "    <tr>\n",
       "      <th>621</th>\n",
       "      <td>Kelp Hot Sauce</td>\n",
       "      <td>Bullwhip</td>\n",
       "      <td>N/A</td>\n",
       "      <td>None</td>\n",
       "      <td>Barnacle Foods, Juneau, AK, United States\\n   ...</td>\n",
       "    </tr>\n",
       "    <tr>\n",
       "      <th>622</th>\n",
       "      <td>Moroccan Chile Crisp</td>\n",
       "      <td>oo'mämē</td>\n",
       "      <td>N/A</td>\n",
       "      <td>None</td>\n",
       "      <td>Fifth Taste Foods, LLC, St Louis, MO, United Stat</td>\n",
       "    </tr>\n",
       "    <tr>\n",
       "      <th>623</th>\n",
       "      <td>Indian Chile Crisp</td>\n",
       "      <td>oo'mämē</td>\n",
       "      <td>N/A</td>\n",
       "      <td>None</td>\n",
       "      <td>Fifth Taste Foods, LLC, St Louis, MO, United Stat</td>\n",
       "    </tr>\n",
       "    <tr>\n",
       "      <th>624</th>\n",
       "      <td>DTR Sauce</td>\n",
       "      <td>Tres Bien Cajun Cuisine</td>\n",
       "      <td>5.0 / 5</td>\n",
       "      <td>None</td>\n",
       "      <td>Tres Bien Cajun Cuisine, Panama City, FL, Unit...</td>\n",
       "    </tr>\n",
       "  </tbody>\n",
       "</table>\n",
       "<p>625 rows × 5 columns</p>\n",
       "</div>"
      ],
      "text/plain": [
       "                            Sauce                           Company   Rating  \\\n",
       "0                       Jalapeño   Whitehouse Station Sauce Company      N/A   \n",
       "1                    Black Garlic                   Jersey Barnfire     None   \n",
       "2                 Jah Mama Sauce                     Roofeeo Landis      N/A   \n",
       "3         Purple Haze Double Dose                Ric Orlando's Best      N/A   \n",
       "4                   Pepper Pastry          Hell's Kitchen Hot Sauce      N/A   \n",
       "..                            ...                               ...      ...   \n",
       "620  Fermented Habanero Hot Sauce                            Iggy's      N/A   \n",
       "621                Kelp Hot Sauce                          Bullwhip      N/A   \n",
       "622          Moroccan Chile Crisp                           oo'mämē      N/A   \n",
       "623            Indian Chile Crisp                           oo'mämē      N/A   \n",
       "624                     DTR Sauce           Tres Bien Cajun Cuisine  5.0 / 5   \n",
       "\n",
       "    Scoville                                            Address  \n",
       "0       None  Whitehouse Station Sauce Company, Whitehouse S...  \n",
       "1       None  Jersey Barnfire, Sparta, NJ, United States\\n  ...  \n",
       "2       None  Roofeeo Landis, Los Angeles , CA, United State...  \n",
       "3       None  Ric Orlando's Best, West Hurley, NY, United St...  \n",
       "4       None  ell's Kitchen Hot Sauce, New York, NY, United ...  \n",
       "..       ...                                                ...  \n",
       "620     None  Iggy's Alive & Cultured, Bainbridge Island, WA...  \n",
       "621     None  Barnacle Foods, Juneau, AK, United States\\n   ...  \n",
       "622     None  Fifth Taste Foods, LLC, St Louis, MO, United Stat  \n",
       "623     None  Fifth Taste Foods, LLC, St Louis, MO, United Stat  \n",
       "624     None  Tres Bien Cajun Cuisine, Panama City, FL, Unit...  \n",
       "\n",
       "[625 rows x 5 columns]"
      ]
     },
     "execution_count": 11,
     "metadata": {},
     "output_type": "execute_result"
    }
   ],
   "source": [
    "result1"
   ]
  },
  {
   "cell_type": "code",
   "execution_count": null,
   "metadata": {},
   "outputs": [],
   "source": []
  },
  {
   "cell_type": "code",
   "execution_count": null,
   "metadata": {},
   "outputs": [],
   "source": []
  }
 ],
 "metadata": {
  "kernelspec": {
   "display_name": "Python 3 (ipykernel)",
   "language": "python",
   "name": "python3"
  },
  "language_info": {
   "codemirror_mode": {
    "name": "ipython",
    "version": 3
   },
   "file_extension": ".py",
   "mimetype": "text/x-python",
   "name": "python",
   "nbconvert_exporter": "python",
   "pygments_lexer": "ipython3",
   "version": "3.9.9"
  },
  "toc": {
   "base_numbering": 1,
   "nav_menu": {},
   "number_sections": true,
   "sideBar": true,
   "skip_h1_title": false,
   "title_cell": "Table of Contents",
   "title_sidebar": "Contents",
   "toc_cell": false,
   "toc_position": {},
   "toc_section_display": true,
   "toc_window_display": false
  }
 },
 "nbformat": 4,
 "nbformat_minor": 4
}
