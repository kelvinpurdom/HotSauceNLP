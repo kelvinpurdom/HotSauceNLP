{
 "cells": [
  {
   "cell_type": "markdown",
   "metadata": {
    "id": "R2tKIqYh0zAx"
   },
   "source": [
    "# Hot Sauce NLP\n"
   ]
  },
  {
   "cell_type": "code",
   "execution_count": 1,
   "metadata": {
    "executionInfo": {
     "elapsed": 1043,
     "status": "ok",
     "timestamp": 1621241591029,
     "user": {
      "displayName": "Bruno Lajoie",
      "photoUrl": "https://lh3.googleusercontent.com/a-/AOh14Gg0dl6gThG8gOPbCvHbgt62zQnsi8cgbQ7C5HkD_Cg=s64",
      "userId": "15793030209206844069"
     },
     "user_tz": -120
    },
    "id": "KkhVEDw80zAz"
   },
   "outputs": [],
   "source": [
    "import requests\n",
    "from bs4 import BeautifulSoup\n",
    "\n",
    "import numpy as np\n",
    "import pandas as pd\n",
    "\n",
    "%matplotlib inline\n",
    "import matplotlib"
   ]
  },
  {
   "cell_type": "code",
   "execution_count": 2,
   "metadata": {},
   "outputs": [],
   "source": [
    "def fetch_page(page):\n",
    "    print(f\"scraping page {page + 1}\")\n",
    "    response = requests.get(\n",
    "        f'https://www.americanfoodclub.de/Hot-Sauces-Scharfe-Sossen-Wuerzsossen',\n",
    "        headers={\"Accept-Language\":\"en-US\"}\n",
    "    )\n",
    "    soup = BeautifulSoup(response.content, \"html.parser\")\n",
    "    return soup"
   ]
  },
  {
   "cell_type": "code",
   "execution_count": null,
   "metadata": {},
   "outputs": [],
   "source": []
  },
  {
   "cell_type": "code",
   "execution_count": 35,
   "metadata": {},
   "outputs": [],
   "source": [
    "def add_books_to_dict(soup, dict):\n",
    "    for book_html in soup.find_all(class_='product-cell text-center thumbnail'):\n",
    "        dict['Title'].append(book_html.find(class_='title').find('a').string)\n",
    "        dict['Price'].append(book_html.find(class_= \"price text-nowrap\").find('span').string.strip('€'))"
   ]
  },
  {
   "cell_type": "code",
   "execution_count": 36,
   "metadata": {},
   "outputs": [],
   "source": [
    "books_dict = {'Title': [], 'Price': []}"
   ]
  },
  {
   "cell_type": "code",
   "execution_count": 37,
   "metadata": {},
   "outputs": [],
   "source": [
    "def create_books_df(max_page):\n",
    "    books_dict = {'Title': [], 'Price': []}\n",
    "    for page in range(max_page):\n",
    "        soup = fetch_page(page)\n",
    "        add_books_to_dict(soup, books_dict)\n",
    "    return pd.DataFrame.from_dict(books_dict)"
   ]
  },
  {
   "cell_type": "code",
   "execution_count": 38,
   "metadata": {},
   "outputs": [
    {
     "name": "stdout",
     "output_type": "stream",
     "text": [
      "scraping page 1\n"
     ]
    },
    {
     "data": {
      "text/plain": [
       "(18, 2)"
      ]
     },
     "execution_count": 38,
     "metadata": {},
     "output_type": "execute_result"
    }
   ],
   "source": [
    "books_df = create_books_df(1)\n",
    "books_df.shape"
   ]
  },
  {
   "cell_type": "code",
   "execution_count": 39,
   "metadata": {},
   "outputs": [
    {
     "data": {
      "text/html": [
       "<div>\n",
       "<style scoped>\n",
       "    .dataframe tbody tr th:only-of-type {\n",
       "        vertical-align: middle;\n",
       "    }\n",
       "\n",
       "    .dataframe tbody tr th {\n",
       "        vertical-align: top;\n",
       "    }\n",
       "\n",
       "    .dataframe thead th {\n",
       "        text-align: right;\n",
       "    }\n",
       "</style>\n",
       "<table border=\"1\" class=\"dataframe\">\n",
       "  <thead>\n",
       "    <tr style=\"text-align: right;\">\n",
       "      <th></th>\n",
       "      <th>Title</th>\n",
       "      <th>Price</th>\n",
       "    </tr>\n",
       "  </thead>\n",
       "  <tbody>\n",
       "    <tr>\n",
       "      <th>0</th>\n",
       "      <td>El Yucateco Sauce XXX Hot Habanero 4oz</td>\n",
       "      <td>5,99</td>\n",
       "    </tr>\n",
       "    <tr>\n",
       "      <th>1</th>\n",
       "      <td>Louisiana Hot Sauce 6oz</td>\n",
       "      <td>5,99</td>\n",
       "    </tr>\n",
       "    <tr>\n",
       "      <th>2</th>\n",
       "      <td>Frank's Red Hot Original Cayenne Pepper Sauce ...</td>\n",
       "      <td>7,99</td>\n",
       "    </tr>\n",
       "    <tr>\n",
       "      <th>3</th>\n",
       "      <td>Frank's Xtra Hot Sauce 12oz.</td>\n",
       "      <td>8,99</td>\n",
       "    </tr>\n",
       "    <tr>\n",
       "      <th>4</th>\n",
       "      <td>El Yucateco Sauce Red Habanero Hot 4oz</td>\n",
       "      <td>5,99</td>\n",
       "    </tr>\n",
       "    <tr>\n",
       "      <th>5</th>\n",
       "      <td>Louisiana Hot Sauce 12oz</td>\n",
       "      <td>5,99</td>\n",
       "    </tr>\n",
       "    <tr>\n",
       "      <th>6</th>\n",
       "      <td>Texas Pete Hot Sauce 12oz</td>\n",
       "      <td>7,99</td>\n",
       "    </tr>\n",
       "    <tr>\n",
       "      <th>7</th>\n",
       "      <td>Texas Pete Buffalo Wing Sauce 12oz</td>\n",
       "      <td>7,99</td>\n",
       "    </tr>\n",
       "    <tr>\n",
       "      <th>8</th>\n",
       "      <td>Frank's Red Hot Wings Sauce Buffalo 12oz.</td>\n",
       "      <td>8,99</td>\n",
       "    </tr>\n",
       "    <tr>\n",
       "      <th>9</th>\n",
       "      <td>Frank's Red Hot Wings Sauce Hot Buffalo 12oz.</td>\n",
       "      <td>8,99</td>\n",
       "    </tr>\n",
       "    <tr>\n",
       "      <th>10</th>\n",
       "      <td>Blair's Ultra Death Sauce 150ml</td>\n",
       "      <td>15,99</td>\n",
       "    </tr>\n",
       "    <tr>\n",
       "      <th>11</th>\n",
       "      <td>El Yucateco Sauce Green Habanero Hot 4oz</td>\n",
       "      <td>5,99</td>\n",
       "    </tr>\n",
       "    <tr>\n",
       "      <th>12</th>\n",
       "      <td>Blair's After Death Sauce 150ml</td>\n",
       "      <td>9,99</td>\n",
       "    </tr>\n",
       "    <tr>\n",
       "      <th>13</th>\n",
       "      <td>El Yucateco Sauce Jalapeno 5oz</td>\n",
       "      <td>5,99</td>\n",
       "    </tr>\n",
       "    <tr>\n",
       "      <th>14</th>\n",
       "      <td>Frank's Red Hot Buffalo Wing Sauce 5oz.</td>\n",
       "      <td>4,99</td>\n",
       "    </tr>\n",
       "    <tr>\n",
       "      <th>15</th>\n",
       "      <td>Frank's Red Hot Sweet Chili Sauce 12oz.</td>\n",
       "      <td>8,99</td>\n",
       "    </tr>\n",
       "    <tr>\n",
       "      <th>16</th>\n",
       "      <td>Frank's Red Hot Xtra Hot 5oz.</td>\n",
       "      <td>4,99</td>\n",
       "    </tr>\n",
       "    <tr>\n",
       "      <th>17</th>\n",
       "      <td>Taco Bell Fire Sauce</td>\n",
       "      <td>3,99</td>\n",
       "    </tr>\n",
       "  </tbody>\n",
       "</table>\n",
       "</div>"
      ],
      "text/plain": [
       "                                                Title   Price\n",
       "0              El Yucateco Sauce XXX Hot Habanero 4oz   5,99 \n",
       "1                             Louisiana Hot Sauce 6oz   5,99 \n",
       "2   Frank's Red Hot Original Cayenne Pepper Sauce ...   7,99 \n",
       "3                        Frank's Xtra Hot Sauce 12oz.   8,99 \n",
       "4              El Yucateco Sauce Red Habanero Hot 4oz   5,99 \n",
       "5                            Louisiana Hot Sauce 12oz   5,99 \n",
       "6                           Texas Pete Hot Sauce 12oz   7,99 \n",
       "7                  Texas Pete Buffalo Wing Sauce 12oz   7,99 \n",
       "8           Frank's Red Hot Wings Sauce Buffalo 12oz.   8,99 \n",
       "9       Frank's Red Hot Wings Sauce Hot Buffalo 12oz.   8,99 \n",
       "10                    Blair's Ultra Death Sauce 150ml  15,99 \n",
       "11           El Yucateco Sauce Green Habanero Hot 4oz   5,99 \n",
       "12                    Blair's After Death Sauce 150ml   9,99 \n",
       "13                     El Yucateco Sauce Jalapeno 5oz   5,99 \n",
       "14            Frank's Red Hot Buffalo Wing Sauce 5oz.   4,99 \n",
       "15            Frank's Red Hot Sweet Chili Sauce 12oz.   8,99 \n",
       "16                      Frank's Red Hot Xtra Hot 5oz.   4,99 \n",
       "17                               Taco Bell Fire Sauce   3,99 "
      ]
     },
     "execution_count": 39,
     "metadata": {},
     "output_type": "execute_result"
    }
   ],
   "source": [
    "books_df.head(20)\n",
    "\n"
   ]
  },
  {
   "cell_type": "code",
   "execution_count": null,
   "metadata": {},
   "outputs": [],
   "source": []
  },
  {
   "cell_type": "code",
   "execution_count": null,
   "metadata": {},
   "outputs": [],
   "source": []
  }
 ],
 "metadata": {
  "kernelspec": {
   "display_name": "Python 3 (ipykernel)",
   "language": "python",
   "name": "python3"
  },
  "language_info": {
   "codemirror_mode": {
    "name": "ipython",
    "version": 3
   },
   "file_extension": ".py",
   "mimetype": "text/x-python",
   "name": "python",
   "nbconvert_exporter": "python",
   "pygments_lexer": "ipython3",
   "version": "3.9.9"
  },
  "toc": {
   "base_numbering": 1,
   "nav_menu": {},
   "number_sections": true,
   "sideBar": true,
   "skip_h1_title": false,
   "title_cell": "Table of Contents",
   "title_sidebar": "Contents",
   "toc_cell": false,
   "toc_position": {},
   "toc_section_display": true,
   "toc_window_display": false
  }
 },
 "nbformat": 4,
 "nbformat_minor": 4
}
