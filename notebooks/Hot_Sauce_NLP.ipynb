{
 "cells": [
  {
   "cell_type": "markdown",
   "metadata": {
    "id": "R2tKIqYh0zAx"
   },
   "source": [
    "# Hot Sauce NLP\n"
   ]
  },
  {
   "cell_type": "markdown",
   "metadata": {},
   "source": [
    "### web scraping"
   ]
  },
  {
   "cell_type": "code",
   "execution_count": 1,
   "metadata": {
    "executionInfo": {
     "elapsed": 1043,
     "status": "ok",
     "timestamp": 1621241591029,
     "user": {
      "displayName": "Bruno Lajoie",
      "photoUrl": "https://lh3.googleusercontent.com/a-/AOh14Gg0dl6gThG8gOPbCvHbgt62zQnsi8cgbQ7C5HkD_Cg=s64",
      "userId": "15793030209206844069"
     },
     "user_tz": -120
    },
    "id": "KkhVEDw80zAz"
   },
   "outputs": [],
   "source": [
    "import requests\n",
    "from bs4 import BeautifulSoup\n",
    "\n",
    "import numpy as np\n",
    "import pandas as pd\n",
    "                    \n",
    "%matplotlib inline\n",
    "import matplotlib\n",
    "import random\n",
    "import plotly.express as px"
   ]
  },
  {
   "cell_type": "code",
   "execution_count": 2,
   "metadata": {},
   "outputs": [],
   "source": [
    "def fetch_page(page):\n",
    "    print(f\"scraping page {page + 1}\")\n",
    "    response = requests.get(\n",
    "        f'https://hotsaucefever.com/hotsauce/page/{page + 1}',\n",
    "        headers={\"Accept-Language\":\"en-US\"}\n",
    "    )\n",
    "    soup = BeautifulSoup(response.content, \"html.parser\")\n",
    "    return soup"
   ]
  },
  {
   "cell_type": "markdown",
   "metadata": {},
   "source": []
  },
  {
   "cell_type": "code",
   "execution_count": 3,
   "metadata": {},
   "outputs": [],
   "source": [
    "\n",
    "def add_sauces_to_dict(soup, dict):\n",
    "    for sauce_html in soup.find_all(class_='detail'):\n",
    "        dict['Hot Sauce'].append(sauce_html.find('h2').find('a').string)\n",
    "        dict['Rating'].append(sauce_html.find('h3').find('span').string)\n",
    "        dict['Makers'].append(\n",
    "            sauce_html.find(class_=\"list-txt\").get_text())"
   ]
  },
  {
   "cell_type": "code",
   "execution_count": 4,
   "metadata": {},
   "outputs": [],
   "source": [
    "def create_sauces_df(max_page):\n",
    "    sauces_dict = {'Hot Sauce': [], 'Rating': [], 'Makers': []}\n",
    "    for page in range(max_page):\n",
    "        soup = fetch_page(page)\n",
    "        add_sauces_to_dict(soup, sauces_dict)\n",
    "    return pd.DataFrame.from_dict(sauces_dict)"
   ]
  },
  {
   "cell_type": "code",
   "execution_count": 5,
   "metadata": {},
   "outputs": [
    {
     "name": "stdout",
     "output_type": "stream",
     "text": [
      "scraping page 1\n",
      "scraping page 2\n"
     ]
    },
    {
     "data": {
      "text/plain": [
       "(50, 3)"
      ]
     },
     "execution_count": 5,
     "metadata": {},
     "output_type": "execute_result"
    }
   ],
   "source": [
    "sauces_df = create_sauces_df(2)\n",
    "sauces_df.shape"
   ]
  },
  {
   "cell_type": "markdown",
   "metadata": {},
   "source": [
    "### Sorting the DF"
   ]
  },
  {
   "cell_type": "code",
   "execution_count": 6,
   "metadata": {},
   "outputs": [],
   "source": [
    "# new data frame with split value columns\n",
    "new = sauces_df[\"Makers\"].str.split(\"Maker:\", n =1, expand = True)\n"
   ]
  },
  {
   "cell_type": "code",
   "execution_count": 7,
   "metadata": {},
   "outputs": [],
   "source": [
    "new1 = new[1].str.split(\":\", expand = True)\n"
   ]
  },
  {
   "cell_type": "markdown",
   "metadata": {},
   "source": [
    "#### stripping unwanted html"
   ]
  },
  {
   "cell_type": "code",
   "execution_count": 8,
   "metadata": {},
   "outputs": [],
   "source": [
    "cols = [0, 1, 2]\n",
    "new1[cols] = new1[cols].apply(lambda x: x.str.strip('%\\n'))\n",
    "new1[cols] = new1[cols].apply(lambda x: x.str.strip(' \\n%'))\n",
    "new1[cols] = new1[cols].apply(lambda x: x.str.strip('%\\n'))\n",
    "new1[cols] = new1[cols].apply(lambda x: x.str.strip('%\\nPepper(s)'))\n",
    "new1[cols] = new1[cols].apply(lambda x: x.str.strip('\\n'))\n",
    "new1[cols] = new1[cols].apply(lambda x: x.str.strip('SHU'))"
   ]
  },
  {
   "cell_type": "markdown",
   "metadata": {},
   "source": [
    "#### Merging 2 DF's"
   ]
  },
  {
   "cell_type": "code",
   "execution_count": 9,
   "metadata": {},
   "outputs": [],
   "source": [
    "result = pd.concat([sauces_df, new1], axis=1, ignore_index=True)\n",
    "result.drop(result.columns[[2]], axis=1, inplace=True)\n",
    "new2 = result[0].str.split(\" - \", expand = True)"
   ]
  },
  {
   "cell_type": "code",
   "execution_count": 10,
   "metadata": {},
   "outputs": [
    {
     "data": {
      "text/html": [
       "<div>\n",
       "<style scoped>\n",
       "    .dataframe tbody tr th:only-of-type {\n",
       "        vertical-align: middle;\n",
       "    }\n",
       "\n",
       "    .dataframe tbody tr th {\n",
       "        vertical-align: top;\n",
       "    }\n",
       "\n",
       "    .dataframe thead th {\n",
       "        text-align: right;\n",
       "    }\n",
       "</style>\n",
       "<table border=\"1\" class=\"dataframe\">\n",
       "  <thead>\n",
       "    <tr style=\"text-align: right;\">\n",
       "      <th></th>\n",
       "      <th>0</th>\n",
       "      <th>1</th>\n",
       "      <th>3</th>\n",
       "      <th>4</th>\n",
       "      <th>5</th>\n",
       "    </tr>\n",
       "  </thead>\n",
       "  <tbody>\n",
       "    <tr>\n",
       "      <th>0</th>\n",
       "      <td>Whitehouse Station Sauce Company - Jalapeño</td>\n",
       "      <td>N/A</td>\n",
       "      <td>Whitehouse Station Sauce Company, Whitehouse S...</td>\n",
       "      <td>Jalapeño</td>\n",
       "      <td>None</td>\n",
       "    </tr>\n",
       "    <tr>\n",
       "      <th>1</th>\n",
       "      <td>Jersey Barnfire - Black Garlic</td>\n",
       "      <td>None</td>\n",
       "      <td>Jersey Barnfire, Sparta, NJ, United States\\n  ...</td>\n",
       "      <td>abanero, Jalapeño</td>\n",
       "      <td>None</td>\n",
       "    </tr>\n",
       "    <tr>\n",
       "      <th>2</th>\n",
       "      <td>Roofeeo Landis - Jah Mama Sauce</td>\n",
       "      <td>N/A</td>\n",
       "      <td>Roofeeo Landis, Los Angeles , CA, United State...</td>\n",
       "      <td>cotch Bonnet, Fresno</td>\n",
       "      <td>None</td>\n",
       "    </tr>\n",
       "    <tr>\n",
       "      <th>3</th>\n",
       "      <td>Ric Orlando's Best - Purple Haze Double Dose</td>\n",
       "      <td>N/A</td>\n",
       "      <td>Ric Orlando's Best, West Hurley, NY, United St...</td>\n",
       "      <td>abanero, Carolina Rea</td>\n",
       "      <td>None</td>\n",
       "    </tr>\n",
       "    <tr>\n",
       "      <th>4</th>\n",
       "      <td>Hell's Kitchen Hot Sauce - Pepper Pastry</td>\n",
       "      <td>N/A</td>\n",
       "      <td>ell's Kitchen Hot Sauce, New York, NY, United ...</td>\n",
       "      <td>abanero, Fatalii</td>\n",
       "      <td>None</td>\n",
       "    </tr>\n",
       "    <tr>\n",
       "      <th>5</th>\n",
       "      <td>Pickle Monster Hot Sauce - Spicy Boi Blend</td>\n",
       "      <td>None</td>\n",
       "      <td>ickle Monster Hot Sauce, Philadelphia, PA, Uni...</td>\n",
       "      <td>abanero, Jalapeño, Serrano</td>\n",
       "      <td>None</td>\n",
       "    </tr>\n",
       "    <tr>\n",
       "      <th>6</th>\n",
       "      <td>Pickle Monster Hot Sauce - Pickle Monster</td>\n",
       "      <td>None</td>\n",
       "      <td>ickle Monster Hot Sauce, Philadelphia, PA, Uni...</td>\n",
       "      <td>Jalapeño, Serrano</td>\n",
       "      <td>None</td>\n",
       "    </tr>\n",
       "    <tr>\n",
       "      <th>7</th>\n",
       "      <td>Swamp Dragon - Tequila Hot Sauce</td>\n",
       "      <td>None</td>\n",
       "      <td>wamp Dragon, Baton Rouge, LA, United Stat</td>\n",
       "      <td>None</td>\n",
       "      <td>None</td>\n",
       "    </tr>\n",
       "    <tr>\n",
       "      <th>8</th>\n",
       "      <td>Cepera - Molho de Pimenta Vermelha: Salsa de A...</td>\n",
       "      <td>None</td>\n",
       "      <td>Cepera, Brazil\\n</td>\n",
       "      <td>Jalapeño</td>\n",
       "      <td>None</td>\n",
       "    </tr>\n",
       "    <tr>\n",
       "      <th>9</th>\n",
       "      <td>Tacoma Sauce Co. - Nero</td>\n",
       "      <td>N/A</td>\n",
       "      <td>Tacoma Sauce Co., Tacoma, United States\\n     ...</td>\n",
       "      <td>abanero\\n            \\n</td>\n",
       "      <td>3,000</td>\n",
       "    </tr>\n",
       "    <tr>\n",
       "      <th>10</th>\n",
       "      <td>Encona - Original Hot Pepper Sauce</td>\n",
       "      <td>None</td>\n",
       "      <td>Grace Foods, United Kingdom\\n</td>\n",
       "      <td>abanero, Scotch Bonnet</td>\n",
       "      <td>None</td>\n",
       "    </tr>\n",
       "    <tr>\n",
       "      <th>11</th>\n",
       "      <td>Salsa Indomable - Chile Piquín</td>\n",
       "      <td>N/A</td>\n",
       "      <td>alsa Indomable, Nuevo León , Mexico\\n</td>\n",
       "      <td>Arbol</td>\n",
       "      <td>None</td>\n",
       "    </tr>\n",
       "    <tr>\n",
       "      <th>12</th>\n",
       "      <td>El Yucateco - Black Label Reserve Chile Habanero</td>\n",
       "      <td>4.7 / 5</td>\n",
       "      <td>El Yucateco, Mexico\\n</td>\n",
       "      <td>abanero</td>\n",
       "      <td>None</td>\n",
       "    </tr>\n",
       "    <tr>\n",
       "      <th>13</th>\n",
       "      <td>Walkerswood - Jamaican Firestick Pepper Sauce</td>\n",
       "      <td>None</td>\n",
       "      <td>Walkerswood, Kingston, Jamaica</td>\n",
       "      <td>None</td>\n",
       "      <td>None</td>\n",
       "    </tr>\n",
       "    <tr>\n",
       "      <th>14</th>\n",
       "      <td>Smok'N Blunt Sauce - Peach Rum Serrano</td>\n",
       "      <td>N/A</td>\n",
       "      <td>mok'N Blunt Sauce, New Kent , VA, United State...</td>\n",
       "      <td>abanero, Jalapeño, Tabasco</td>\n",
       "      <td>None</td>\n",
       "    </tr>\n",
       "    <tr>\n",
       "      <th>15</th>\n",
       "      <td>Smok'N Blunt Sauce - Original Blunt Sauce</td>\n",
       "      <td>N/A</td>\n",
       "      <td>mok'N Blunt Sauce, New Kent , VA, United State...</td>\n",
       "      <td>abanero, Jalapeño</td>\n",
       "      <td>None</td>\n",
       "    </tr>\n",
       "    <tr>\n",
       "      <th>16</th>\n",
       "      <td>Smok'N Blunt Sauce - Ghost Pepper Pineapple</td>\n",
       "      <td>N/A</td>\n",
       "      <td>mok'N Blunt Sauce, New Kent, VA, United States...</td>\n",
       "      <td>abanero, Jalapeño, Bhut Jolokia (Ghost Chili</td>\n",
       "      <td>None</td>\n",
       "    </tr>\n",
       "    <tr>\n",
       "      <th>17</th>\n",
       "      <td>Smok'N Blunt Sauce - Chipotle Habanero Mango</td>\n",
       "      <td>N/A</td>\n",
       "      <td>mok'N Blunt Sauce, New Kent, VA, United States...</td>\n",
       "      <td>abanero, Jalapeño</td>\n",
       "      <td>None</td>\n",
       "    </tr>\n",
       "    <tr>\n",
       "      <th>18</th>\n",
       "      <td>Don Hotsauce - Habanero &amp; Reaper</td>\n",
       "      <td>N/A</td>\n",
       "      <td>Don Hotsauce , Sankt Gallen , Switzerland\\n   ...</td>\n",
       "      <td>abanero, Carolina Rea</td>\n",
       "      <td>None</td>\n",
       "    </tr>\n",
       "    <tr>\n",
       "      <th>19</th>\n",
       "      <td>High River Sauces - Cheeba Gold</td>\n",
       "      <td>None</td>\n",
       "      <td>igh River Sauces, King's Park, NY, United Stat...</td>\n",
       "      <td>Fatalii, Scotch Bonnet</td>\n",
       "      <td>None</td>\n",
       "    </tr>\n",
       "    <tr>\n",
       "      <th>20</th>\n",
       "      <td>Iggy's - Fermented Habanero Hot Sauce</td>\n",
       "      <td>N/A</td>\n",
       "      <td>Iggy's Alive &amp; Cultured, Bainbridge Island, WA...</td>\n",
       "      <td>abanero</td>\n",
       "      <td>None</td>\n",
       "    </tr>\n",
       "    <tr>\n",
       "      <th>21</th>\n",
       "      <td>Bullwhip - Kelp Hot Sauce</td>\n",
       "      <td>N/A</td>\n",
       "      <td>Barnacle Foods, Juneau, AK, United States\\n   ...</td>\n",
       "      <td>i Peri</td>\n",
       "      <td>None</td>\n",
       "    </tr>\n",
       "    <tr>\n",
       "      <th>22</th>\n",
       "      <td>oo'mämē - Moroccan Chile Crisp</td>\n",
       "      <td>N/A</td>\n",
       "      <td>Fifth Taste Foods, LLC, St Louis, MO, United Stat</td>\n",
       "      <td>None</td>\n",
       "      <td>None</td>\n",
       "    </tr>\n",
       "    <tr>\n",
       "      <th>23</th>\n",
       "      <td>oo'mämē - Indian Chile Crisp</td>\n",
       "      <td>N/A</td>\n",
       "      <td>Fifth Taste Foods, LLC, St Louis, MO, United Stat</td>\n",
       "      <td>None</td>\n",
       "      <td>None</td>\n",
       "    </tr>\n",
       "    <tr>\n",
       "      <th>24</th>\n",
       "      <td>Tres Bien Cajun Cuisine - DTR Sauce</td>\n",
       "      <td>5.0 / 5</td>\n",
       "      <td>Tres Bien Cajun Cuisine, Panama City, FL, Unit...</td>\n",
       "      <td>Tabasco, Carolina Rea</td>\n",
       "      <td>None</td>\n",
       "    </tr>\n",
       "    <tr>\n",
       "      <th>25</th>\n",
       "      <td>TRUFF Hot Sauce</td>\n",
       "      <td>None</td>\n",
       "      <td>auce Ventures LLC, Huntington Beach, CA, Unite...</td>\n",
       "      <td>2,500</td>\n",
       "      <td>None</td>\n",
       "    </tr>\n",
       "    <tr>\n",
       "      <th>26</th>\n",
       "      <td>Captain Thom's - Thai Monkey</td>\n",
       "      <td>None</td>\n",
       "      <td>Captain Thom's Chili Pepper Co., Baltimore, MD...</td>\n",
       "      <td>Thai</td>\n",
       "      <td>None</td>\n",
       "    </tr>\n",
       "    <tr>\n",
       "      <th>27</th>\n",
       "      <td>Men Pa'w - Umami</td>\n",
       "      <td>None</td>\n",
       "      <td>Men Pa'w Gourmet Hot Sauces, LLC, Miami, FL, U...</td>\n",
       "      <td>abanero, Cayenne, Jalapeño</td>\n",
       "      <td>None</td>\n",
       "    </tr>\n",
       "    <tr>\n",
       "      <th>28</th>\n",
       "      <td>Men Pa'w - La Bomba</td>\n",
       "      <td>N/A</td>\n",
       "      <td>Men Pa'w Gourmet Hot Sauces, LLC, Miami, FL, U...</td>\n",
       "      <td>abanero, Bhut Jolokia (Ghost Chili), Scotch Bo...</td>\n",
       "      <td>None</td>\n",
       "    </tr>\n",
       "    <tr>\n",
       "      <th>29</th>\n",
       "      <td>Shaquanda's - Hot Pepper Sauce</td>\n",
       "      <td>N/A</td>\n",
       "      <td>haquanda Will Feed You, LLC, Brooklyn, NY, Uni...</td>\n",
       "      <td>None</td>\n",
       "      <td>None</td>\n",
       "    </tr>\n",
       "    <tr>\n",
       "      <th>30</th>\n",
       "      <td>Cackalacky - Spice Sauce</td>\n",
       "      <td>N/A</td>\n",
       "      <td>Cackalacky, Inc., Pittsboro, NC, United Stat</td>\n",
       "      <td>None</td>\n",
       "      <td>None</td>\n",
       "    </tr>\n",
       "    <tr>\n",
       "      <th>31</th>\n",
       "      <td>Baron - Blazing Hot Sauce</td>\n",
       "      <td>None</td>\n",
       "      <td>Baron, Vieux Fort, Saint Lucia\\n</td>\n",
       "      <td>cotch Bonnet</td>\n",
       "      <td>None</td>\n",
       "    </tr>\n",
       "    <tr>\n",
       "      <th>32</th>\n",
       "      <td>Peqqii - Chilito Chiltepe</td>\n",
       "      <td>N/A</td>\n",
       "      <td>qqii Products, Guatemala City, Guatemala\\n    ...</td>\n",
       "      <td>iquin\\n            \\n</td>\n",
       "      <td>180,000</td>\n",
       "    </tr>\n",
       "    <tr>\n",
       "      <th>33</th>\n",
       "      <td>Mayan Fire - Habanero Hot Pepper Sauce</td>\n",
       "      <td>N/A</td>\n",
       "      <td>Mayan Fire, Colombia\\n</td>\n",
       "      <td>abanero</td>\n",
       "      <td>None</td>\n",
       "    </tr>\n",
       "    <tr>\n",
       "      <th>34</th>\n",
       "      <td>Bazodee - Hot Hot Soca Sauce</td>\n",
       "      <td>N/A</td>\n",
       "      <td>Mavis Foods, LLC, Morristown, NJ, United State...</td>\n",
       "      <td>abanero, Jalapeño, Trinidad Scorpion</td>\n",
       "      <td>None</td>\n",
       "    </tr>\n",
       "    <tr>\n",
       "      <th>35</th>\n",
       "      <td>Bazodee - Soca Sauce</td>\n",
       "      <td>N/A</td>\n",
       "      <td>Mavis Foods, LLC, Morristown, NJ, United State...</td>\n",
       "      <td>abanero, Jalapeño</td>\n",
       "      <td>None</td>\n",
       "    </tr>\n",
       "    <tr>\n",
       "      <th>36</th>\n",
       "      <td>Lost Capital Foods - Pyramid Scheme</td>\n",
       "      <td>N/A</td>\n",
       "      <td>Lost Capital Foods, Falcon Heights, MN, United...</td>\n",
       "      <td>Jalapeño, Bhut Jolokia (Ghost Chili), Chipotle...</td>\n",
       "      <td>None</td>\n",
       "    </tr>\n",
       "    <tr>\n",
       "      <th>37</th>\n",
       "      <td>Lost Capital Foods - Overdraft</td>\n",
       "      <td>N/A</td>\n",
       "      <td>Lost Capital Foods, Falcon Heights, MN, United...</td>\n",
       "      <td>Jalapeño, Serrano</td>\n",
       "      <td>None</td>\n",
       "    </tr>\n",
       "    <tr>\n",
       "      <th>38</th>\n",
       "      <td>Lost Capital Foods - Legal Tender</td>\n",
       "      <td>N/A</td>\n",
       "      <td>Lost Capital Foods, Falcon Heights, MN, United...</td>\n",
       "      <td>Jalapeño, Serrano, Trinidad Scorpion</td>\n",
       "      <td>None</td>\n",
       "    </tr>\n",
       "    <tr>\n",
       "      <th>39</th>\n",
       "      <td>Lost Capital Foods - Gold Digger</td>\n",
       "      <td>N/A</td>\n",
       "      <td>Lost Capital Foods, Falcon Heights, MN, United...</td>\n",
       "      <td>abanero</td>\n",
       "      <td>None</td>\n",
       "    </tr>\n",
       "    <tr>\n",
       "      <th>40</th>\n",
       "      <td>Lost Capital Foods - Death Tax</td>\n",
       "      <td>N/A</td>\n",
       "      <td>Lost Capital Foods, Falcon Heights, MN, United...</td>\n",
       "      <td>Guajillo, Trinidad Scorpion</td>\n",
       "      <td>None</td>\n",
       "    </tr>\n",
       "    <tr>\n",
       "      <th>41</th>\n",
       "      <td>Lost Capital Foods - Bailout</td>\n",
       "      <td>N/A</td>\n",
       "      <td>Lost Capital Foods, Falcon Heights, MN, United...</td>\n",
       "      <td>abanero, Jalapeño, Guajillo</td>\n",
       "      <td>None</td>\n",
       "    </tr>\n",
       "    <tr>\n",
       "      <th>42</th>\n",
       "      <td>Lost Capital Foods - Another Bad Investment</td>\n",
       "      <td>N/A</td>\n",
       "      <td>Lost Capital Foods, Falcon Heights, MN, United...</td>\n",
       "      <td>abanero, Jalapeño, Bhut Jolokia (Ghost Chili),...</td>\n",
       "      <td>None</td>\n",
       "    </tr>\n",
       "    <tr>\n",
       "      <th>43</th>\n",
       "      <td>Sweet Daddy - XYZ Pique</td>\n",
       "      <td>None</td>\n",
       "      <td>weet Daddy, San Rafael, CA, United Stat</td>\n",
       "      <td>None</td>\n",
       "      <td>None</td>\n",
       "    </tr>\n",
       "    <tr>\n",
       "      <th>44</th>\n",
       "      <td>Tahiti Joe's - Maui Pepper Co Mango Meltdown (...</td>\n",
       "      <td>N/A</td>\n",
       "      <td>Tahiti Joe's, West Palm Beach, FL, United Stat...</td>\n",
       "      <td>abanero</td>\n",
       "      <td>None</td>\n",
       "    </tr>\n",
       "    <tr>\n",
       "      <th>45</th>\n",
       "      <td>Luau Blast Volcanic Hot Sauce - Island Tropica...</td>\n",
       "      <td>N/A</td>\n",
       "      <td>Luau Blast Volcanic Hot Sauce, Honolulu, HI, U...</td>\n",
       "      <td>abanero</td>\n",
       "      <td>None</td>\n",
       "    </tr>\n",
       "    <tr>\n",
       "      <th>46</th>\n",
       "      <td>Molho Chacon - Pimenta Mexicana</td>\n",
       "      <td>None</td>\n",
       "      <td>Molho Chacon, Brazil</td>\n",
       "      <td>None</td>\n",
       "      <td>None</td>\n",
       "    </tr>\n",
       "    <tr>\n",
       "      <th>47</th>\n",
       "      <td>Tia Lupita - Chipotle Hot Sauce</td>\n",
       "      <td>None</td>\n",
       "      <td>Tia Lupita, Tiburon, CA, United States\\n      ...</td>\n",
       "      <td>Chipotl</td>\n",
       "      <td>None</td>\n",
       "    </tr>\n",
       "    <tr>\n",
       "      <th>48</th>\n",
       "      <td>D.L. Jardine's - Texas Champagne Cayenne Peppe...</td>\n",
       "      <td>None</td>\n",
       "      <td>D.L. Jardine's, United States\\n</td>\n",
       "      <td>Cayenn</td>\n",
       "      <td>None</td>\n",
       "    </tr>\n",
       "    <tr>\n",
       "      <th>49</th>\n",
       "      <td>Grace - Caribbean Style Hot Pepper Sauce</td>\n",
       "      <td>N/A</td>\n",
       "      <td>Grace, Kingston, Jamaica\\n</td>\n",
       "      <td>abanero, Scotch Bonnet</td>\n",
       "      <td>None</td>\n",
       "    </tr>\n",
       "  </tbody>\n",
       "</table>\n",
       "</div>"
      ],
      "text/plain": [
       "                                                    0        1  \\\n",
       "0        Whitehouse Station Sauce Company - Jalapeño       N/A   \n",
       "1                      Jersey Barnfire - Black Garlic     None   \n",
       "2                    Roofeeo Landis - Jah Mama Sauce       N/A   \n",
       "3        Ric Orlando's Best - Purple Haze Double Dose      N/A   \n",
       "4            Hell's Kitchen Hot Sauce - Pepper Pastry      N/A   \n",
       "5          Pickle Monster Hot Sauce - Spicy Boi Blend     None   \n",
       "6           Pickle Monster Hot Sauce - Pickle Monster     None   \n",
       "7                    Swamp Dragon - Tequila Hot Sauce     None   \n",
       "8   Cepera - Molho de Pimenta Vermelha: Salsa de A...     None   \n",
       "9                             Tacoma Sauce Co. - Nero      N/A   \n",
       "10                 Encona - Original Hot Pepper Sauce     None   \n",
       "11                     Salsa Indomable - Chile Piquín      N/A   \n",
       "12   El Yucateco - Black Label Reserve Chile Habanero  4.7 / 5   \n",
       "13      Walkerswood - Jamaican Firestick Pepper Sauce     None   \n",
       "14            Smok'N Blunt Sauce - Peach Rum Serrano       N/A   \n",
       "15         Smok'N Blunt Sauce - Original Blunt Sauce       N/A   \n",
       "16       Smok'N Blunt Sauce - Ghost Pepper Pineapple       N/A   \n",
       "17      Smok'N Blunt Sauce - Chipotle Habanero Mango       N/A   \n",
       "18                   Don Hotsauce - Habanero & Reaper      N/A   \n",
       "19                    High River Sauces - Cheeba Gold     None   \n",
       "20              Iggy's - Fermented Habanero Hot Sauce      N/A   \n",
       "21                          Bullwhip - Kelp Hot Sauce      N/A   \n",
       "22                     oo'mämē - Moroccan Chile Crisp      N/A   \n",
       "23                       oo'mämē - Indian Chile Crisp      N/A   \n",
       "24                Tres Bien Cajun Cuisine - DTR Sauce  5.0 / 5   \n",
       "25                                    TRUFF Hot Sauce     None   \n",
       "26                       Captain Thom's - Thai Monkey     None   \n",
       "27                                   Men Pa'w - Umami     None   \n",
       "28                                Men Pa'w - La Bomba      N/A   \n",
       "29                     Shaquanda's - Hot Pepper Sauce      N/A   \n",
       "30                           Cackalacky - Spice Sauce      N/A   \n",
       "31                          Baron - Blazing Hot Sauce     None   \n",
       "32                          Peqqii - Chilito Chiltepe      N/A   \n",
       "33             Mayan Fire - Habanero Hot Pepper Sauce      N/A   \n",
       "34                       Bazodee - Hot Hot Soca Sauce      N/A   \n",
       "35                               Bazodee - Soca Sauce      N/A   \n",
       "36                Lost Capital Foods - Pyramid Scheme      N/A   \n",
       "37                     Lost Capital Foods - Overdraft      N/A   \n",
       "38                  Lost Capital Foods - Legal Tender      N/A   \n",
       "39                   Lost Capital Foods - Gold Digger      N/A   \n",
       "40                     Lost Capital Foods - Death Tax      N/A   \n",
       "41                       Lost Capital Foods - Bailout      N/A   \n",
       "42        Lost Capital Foods - Another Bad Investment      N/A   \n",
       "43                            Sweet Daddy - XYZ Pique     None   \n",
       "44  Tahiti Joe's - Maui Pepper Co Mango Meltdown (...      N/A   \n",
       "45  Luau Blast Volcanic Hot Sauce - Island Tropica...      N/A   \n",
       "46                    Molho Chacon - Pimenta Mexicana     None   \n",
       "47                    Tia Lupita - Chipotle Hot Sauce     None   \n",
       "48  D.L. Jardine's - Texas Champagne Cayenne Peppe...     None   \n",
       "49           Grace - Caribbean Style Hot Pepper Sauce      N/A   \n",
       "\n",
       "                                                    3  \\\n",
       "0   Whitehouse Station Sauce Company, Whitehouse S...   \n",
       "1   Jersey Barnfire, Sparta, NJ, United States\\n  ...   \n",
       "2   Roofeeo Landis, Los Angeles , CA, United State...   \n",
       "3   Ric Orlando's Best, West Hurley, NY, United St...   \n",
       "4   ell's Kitchen Hot Sauce, New York, NY, United ...   \n",
       "5   ickle Monster Hot Sauce, Philadelphia, PA, Uni...   \n",
       "6   ickle Monster Hot Sauce, Philadelphia, PA, Uni...   \n",
       "7           wamp Dragon, Baton Rouge, LA, United Stat   \n",
       "8                        Cepera, Brazil\\n               \n",
       "9   Tacoma Sauce Co., Tacoma, United States\\n     ...   \n",
       "10          Grace Foods, United Kingdom\\n               \n",
       "11  alsa Indomable, Nuevo León , Mexico\\n               \n",
       "12                  El Yucateco, Mexico\\n               \n",
       "13                     Walkerswood, Kingston, Jamaica   \n",
       "14  mok'N Blunt Sauce, New Kent , VA, United State...   \n",
       "15  mok'N Blunt Sauce, New Kent , VA, United State...   \n",
       "16  mok'N Blunt Sauce, New Kent, VA, United States...   \n",
       "17  mok'N Blunt Sauce, New Kent, VA, United States...   \n",
       "18  Don Hotsauce , Sankt Gallen , Switzerland\\n   ...   \n",
       "19  igh River Sauces, King's Park, NY, United Stat...   \n",
       "20  Iggy's Alive & Cultured, Bainbridge Island, WA...   \n",
       "21  Barnacle Foods, Juneau, AK, United States\\n   ...   \n",
       "22  Fifth Taste Foods, LLC, St Louis, MO, United Stat   \n",
       "23  Fifth Taste Foods, LLC, St Louis, MO, United Stat   \n",
       "24  Tres Bien Cajun Cuisine, Panama City, FL, Unit...   \n",
       "25  auce Ventures LLC, Huntington Beach, CA, Unite...   \n",
       "26  Captain Thom's Chili Pepper Co., Baltimore, MD...   \n",
       "27  Men Pa'w Gourmet Hot Sauces, LLC, Miami, FL, U...   \n",
       "28  Men Pa'w Gourmet Hot Sauces, LLC, Miami, FL, U...   \n",
       "29  haquanda Will Feed You, LLC, Brooklyn, NY, Uni...   \n",
       "30       Cackalacky, Inc., Pittsboro, NC, United Stat   \n",
       "31       Baron, Vieux Fort, Saint Lucia\\n               \n",
       "32  qqii Products, Guatemala City, Guatemala\\n    ...   \n",
       "33                 Mayan Fire, Colombia\\n               \n",
       "34  Mavis Foods, LLC, Morristown, NJ, United State...   \n",
       "35  Mavis Foods, LLC, Morristown, NJ, United State...   \n",
       "36  Lost Capital Foods, Falcon Heights, MN, United...   \n",
       "37  Lost Capital Foods, Falcon Heights, MN, United...   \n",
       "38  Lost Capital Foods, Falcon Heights, MN, United...   \n",
       "39  Lost Capital Foods, Falcon Heights, MN, United...   \n",
       "40  Lost Capital Foods, Falcon Heights, MN, United...   \n",
       "41  Lost Capital Foods, Falcon Heights, MN, United...   \n",
       "42  Lost Capital Foods, Falcon Heights, MN, United...   \n",
       "43            weet Daddy, San Rafael, CA, United Stat   \n",
       "44  Tahiti Joe's, West Palm Beach, FL, United Stat...   \n",
       "45  Luau Blast Volcanic Hot Sauce, Honolulu, HI, U...   \n",
       "46                               Molho Chacon, Brazil   \n",
       "47  Tia Lupita, Tiburon, CA, United States\\n      ...   \n",
       "48        D.L. Jardine's, United States\\n               \n",
       "49             Grace, Kingston, Jamaica\\n               \n",
       "\n",
       "                                                    4        5  \n",
       "0                                            Jalapeño     None  \n",
       "1                                   abanero, Jalapeño     None  \n",
       "2                                cotch Bonnet, Fresno     None  \n",
       "3                               abanero, Carolina Rea     None  \n",
       "4                                    abanero, Fatalii     None  \n",
       "5                          abanero, Jalapeño, Serrano     None  \n",
       "6                                   Jalapeño, Serrano     None  \n",
       "7                                                None     None  \n",
       "8                                            Jalapeño     None  \n",
       "9                            abanero\\n            \\n     3,000  \n",
       "10                             abanero, Scotch Bonnet     None  \n",
       "11                                              Arbol     None  \n",
       "12                                            abanero     None  \n",
       "13                                               None     None  \n",
       "14                         abanero, Jalapeño, Tabasco     None  \n",
       "15                                  abanero, Jalapeño     None  \n",
       "16       abanero, Jalapeño, Bhut Jolokia (Ghost Chili     None  \n",
       "17                                  abanero, Jalapeño     None  \n",
       "18                              abanero, Carolina Rea     None  \n",
       "19                             Fatalii, Scotch Bonnet     None  \n",
       "20                                            abanero     None  \n",
       "21                                             i Peri     None  \n",
       "22                                               None     None  \n",
       "23                                               None     None  \n",
       "24                              Tabasco, Carolina Rea     None  \n",
       "25                                              2,500     None  \n",
       "26                                               Thai     None  \n",
       "27                         abanero, Cayenne, Jalapeño     None  \n",
       "28  abanero, Bhut Jolokia (Ghost Chili), Scotch Bo...     None  \n",
       "29                                               None     None  \n",
       "30                                               None     None  \n",
       "31                                       cotch Bonnet     None  \n",
       "32                             iquin\\n            \\n   180,000  \n",
       "33                                            abanero     None  \n",
       "34               abanero, Jalapeño, Trinidad Scorpion     None  \n",
       "35                                  abanero, Jalapeño     None  \n",
       "36  Jalapeño, Bhut Jolokia (Ghost Chili), Chipotle...     None  \n",
       "37                                  Jalapeño, Serrano     None  \n",
       "38               Jalapeño, Serrano, Trinidad Scorpion     None  \n",
       "39                                            abanero     None  \n",
       "40                        Guajillo, Trinidad Scorpion     None  \n",
       "41                        abanero, Jalapeño, Guajillo     None  \n",
       "42  abanero, Jalapeño, Bhut Jolokia (Ghost Chili),...     None  \n",
       "43                                               None     None  \n",
       "44                                            abanero     None  \n",
       "45                                            abanero     None  \n",
       "46                                               None     None  \n",
       "47                                            Chipotl     None  \n",
       "48                                             Cayenn     None  \n",
       "49                             abanero, Scotch Bonnet     None  "
      ]
     },
     "execution_count": 10,
     "metadata": {},
     "output_type": "execute_result"
    }
   ],
   "source": [
    "result"
   ]
  },
  {
   "cell_type": "code",
   "execution_count": 15,
   "metadata": {},
   "outputs": [],
   "source": [
    "result1 = pd.concat([result, new2], axis=1, ignore_index=True)\n",
    "result1.drop(result1.columns[[0]], axis=1, inplace=True)\n",
    "#result1.drop(result1.columns[[6]], axis=1, inplace=True)\n",
    "result1.columns = ['Rating', 'Address', 'Peppers', 'Scoville', 'Company', 'Sauce']\n",
    "result1 = result1[['Sauce', 'Company', 'Rating','Peppers', 'Scoville', 'Address']]"
   ]
  },
  {
   "cell_type": "code",
   "execution_count": null,
   "metadata": {},
   "outputs": [],
   "source": []
  },
  {
   "cell_type": "code",
   "execution_count": 16,
   "metadata": {},
   "outputs": [
    {
     "data": {
      "text/html": [
       "<div>\n",
       "<style scoped>\n",
       "    .dataframe tbody tr th:only-of-type {\n",
       "        vertical-align: middle;\n",
       "    }\n",
       "\n",
       "    .dataframe tbody tr th {\n",
       "        vertical-align: top;\n",
       "    }\n",
       "\n",
       "    .dataframe thead th {\n",
       "        text-align: right;\n",
       "    }\n",
       "</style>\n",
       "<table border=\"1\" class=\"dataframe\">\n",
       "  <thead>\n",
       "    <tr style=\"text-align: right;\">\n",
       "      <th></th>\n",
       "      <th>Sauce</th>\n",
       "      <th>Company</th>\n",
       "      <th>Rating</th>\n",
       "      <th>Peppers</th>\n",
       "      <th>Scoville</th>\n",
       "      <th>Address</th>\n",
       "    </tr>\n",
       "  </thead>\n",
       "  <tbody>\n",
       "    <tr>\n",
       "      <th>0</th>\n",
       "      <td>Jalapeño</td>\n",
       "      <td>Whitehouse Station Sauce Company</td>\n",
       "      <td>N/A</td>\n",
       "      <td>Jalapeño</td>\n",
       "      <td>None</td>\n",
       "      <td>Whitehouse Station Sauce Company, Whitehouse S...</td>\n",
       "    </tr>\n",
       "    <tr>\n",
       "      <th>1</th>\n",
       "      <td>Black Garlic</td>\n",
       "      <td>Jersey Barnfire</td>\n",
       "      <td>None</td>\n",
       "      <td>abanero, Jalapeño</td>\n",
       "      <td>None</td>\n",
       "      <td>Jersey Barnfire, Sparta, NJ, United States\\n  ...</td>\n",
       "    </tr>\n",
       "    <tr>\n",
       "      <th>2</th>\n",
       "      <td>Jah Mama Sauce</td>\n",
       "      <td>Roofeeo Landis</td>\n",
       "      <td>N/A</td>\n",
       "      <td>cotch Bonnet, Fresno</td>\n",
       "      <td>None</td>\n",
       "      <td>Roofeeo Landis, Los Angeles , CA, United State...</td>\n",
       "    </tr>\n",
       "    <tr>\n",
       "      <th>3</th>\n",
       "      <td>Purple Haze Double Dose</td>\n",
       "      <td>Ric Orlando's Best</td>\n",
       "      <td>N/A</td>\n",
       "      <td>abanero, Carolina Rea</td>\n",
       "      <td>None</td>\n",
       "      <td>Ric Orlando's Best, West Hurley, NY, United St...</td>\n",
       "    </tr>\n",
       "    <tr>\n",
       "      <th>4</th>\n",
       "      <td>Pepper Pastry</td>\n",
       "      <td>Hell's Kitchen Hot Sauce</td>\n",
       "      <td>N/A</td>\n",
       "      <td>abanero, Fatalii</td>\n",
       "      <td>None</td>\n",
       "      <td>ell's Kitchen Hot Sauce, New York, NY, United ...</td>\n",
       "    </tr>\n",
       "    <tr>\n",
       "      <th>5</th>\n",
       "      <td>Spicy Boi Blend</td>\n",
       "      <td>Pickle Monster Hot Sauce</td>\n",
       "      <td>None</td>\n",
       "      <td>abanero, Jalapeño, Serrano</td>\n",
       "      <td>None</td>\n",
       "      <td>ickle Monster Hot Sauce, Philadelphia, PA, Uni...</td>\n",
       "    </tr>\n",
       "    <tr>\n",
       "      <th>6</th>\n",
       "      <td>Pickle Monster</td>\n",
       "      <td>Pickle Monster Hot Sauce</td>\n",
       "      <td>None</td>\n",
       "      <td>Jalapeño, Serrano</td>\n",
       "      <td>None</td>\n",
       "      <td>ickle Monster Hot Sauce, Philadelphia, PA, Uni...</td>\n",
       "    </tr>\n",
       "    <tr>\n",
       "      <th>7</th>\n",
       "      <td>Tequila Hot Sauce</td>\n",
       "      <td>Swamp Dragon</td>\n",
       "      <td>None</td>\n",
       "      <td>None</td>\n",
       "      <td>None</td>\n",
       "      <td>wamp Dragon, Baton Rouge, LA, United Stat</td>\n",
       "    </tr>\n",
       "    <tr>\n",
       "      <th>8</th>\n",
       "      <td>Molho de Pimenta Vermelha: Salsa de Aji Roja</td>\n",
       "      <td>Cepera</td>\n",
       "      <td>None</td>\n",
       "      <td>Jalapeño</td>\n",
       "      <td>None</td>\n",
       "      <td>Cepera, Brazil\\n</td>\n",
       "    </tr>\n",
       "    <tr>\n",
       "      <th>9</th>\n",
       "      <td>Nero</td>\n",
       "      <td>Tacoma Sauce Co.</td>\n",
       "      <td>N/A</td>\n",
       "      <td>abanero\\n            \\n</td>\n",
       "      <td>3,000</td>\n",
       "      <td>Tacoma Sauce Co., Tacoma, United States\\n     ...</td>\n",
       "    </tr>\n",
       "    <tr>\n",
       "      <th>10</th>\n",
       "      <td>Original Hot Pepper Sauce</td>\n",
       "      <td>Encona</td>\n",
       "      <td>None</td>\n",
       "      <td>abanero, Scotch Bonnet</td>\n",
       "      <td>None</td>\n",
       "      <td>Grace Foods, United Kingdom\\n</td>\n",
       "    </tr>\n",
       "    <tr>\n",
       "      <th>11</th>\n",
       "      <td>Chile Piquín</td>\n",
       "      <td>Salsa Indomable</td>\n",
       "      <td>N/A</td>\n",
       "      <td>Arbol</td>\n",
       "      <td>None</td>\n",
       "      <td>alsa Indomable, Nuevo León , Mexico\\n</td>\n",
       "    </tr>\n",
       "    <tr>\n",
       "      <th>12</th>\n",
       "      <td>Black Label Reserve Chile Habanero</td>\n",
       "      <td>El Yucateco</td>\n",
       "      <td>4.7 / 5</td>\n",
       "      <td>abanero</td>\n",
       "      <td>None</td>\n",
       "      <td>El Yucateco, Mexico\\n</td>\n",
       "    </tr>\n",
       "    <tr>\n",
       "      <th>13</th>\n",
       "      <td>Jamaican Firestick Pepper Sauce</td>\n",
       "      <td>Walkerswood</td>\n",
       "      <td>None</td>\n",
       "      <td>None</td>\n",
       "      <td>None</td>\n",
       "      <td>Walkerswood, Kingston, Jamaica</td>\n",
       "    </tr>\n",
       "    <tr>\n",
       "      <th>14</th>\n",
       "      <td>Peach Rum Serrano</td>\n",
       "      <td>Smok'N Blunt Sauce</td>\n",
       "      <td>N/A</td>\n",
       "      <td>abanero, Jalapeño, Tabasco</td>\n",
       "      <td>None</td>\n",
       "      <td>mok'N Blunt Sauce, New Kent , VA, United State...</td>\n",
       "    </tr>\n",
       "    <tr>\n",
       "      <th>15</th>\n",
       "      <td>Original Blunt Sauce</td>\n",
       "      <td>Smok'N Blunt Sauce</td>\n",
       "      <td>N/A</td>\n",
       "      <td>abanero, Jalapeño</td>\n",
       "      <td>None</td>\n",
       "      <td>mok'N Blunt Sauce, New Kent , VA, United State...</td>\n",
       "    </tr>\n",
       "    <tr>\n",
       "      <th>16</th>\n",
       "      <td>Ghost Pepper Pineapple</td>\n",
       "      <td>Smok'N Blunt Sauce</td>\n",
       "      <td>N/A</td>\n",
       "      <td>abanero, Jalapeño, Bhut Jolokia (Ghost Chili</td>\n",
       "      <td>None</td>\n",
       "      <td>mok'N Blunt Sauce, New Kent, VA, United States...</td>\n",
       "    </tr>\n",
       "    <tr>\n",
       "      <th>17</th>\n",
       "      <td>Chipotle Habanero Mango</td>\n",
       "      <td>Smok'N Blunt Sauce</td>\n",
       "      <td>N/A</td>\n",
       "      <td>abanero, Jalapeño</td>\n",
       "      <td>None</td>\n",
       "      <td>mok'N Blunt Sauce, New Kent, VA, United States...</td>\n",
       "    </tr>\n",
       "    <tr>\n",
       "      <th>18</th>\n",
       "      <td>Habanero &amp; Reaper</td>\n",
       "      <td>Don Hotsauce</td>\n",
       "      <td>N/A</td>\n",
       "      <td>abanero, Carolina Rea</td>\n",
       "      <td>None</td>\n",
       "      <td>Don Hotsauce , Sankt Gallen , Switzerland\\n   ...</td>\n",
       "    </tr>\n",
       "    <tr>\n",
       "      <th>19</th>\n",
       "      <td>Cheeba Gold</td>\n",
       "      <td>High River Sauces</td>\n",
       "      <td>None</td>\n",
       "      <td>Fatalii, Scotch Bonnet</td>\n",
       "      <td>None</td>\n",
       "      <td>igh River Sauces, King's Park, NY, United Stat...</td>\n",
       "    </tr>\n",
       "    <tr>\n",
       "      <th>20</th>\n",
       "      <td>Fermented Habanero Hot Sauce</td>\n",
       "      <td>Iggy's</td>\n",
       "      <td>N/A</td>\n",
       "      <td>abanero</td>\n",
       "      <td>None</td>\n",
       "      <td>Iggy's Alive &amp; Cultured, Bainbridge Island, WA...</td>\n",
       "    </tr>\n",
       "    <tr>\n",
       "      <th>21</th>\n",
       "      <td>Kelp Hot Sauce</td>\n",
       "      <td>Bullwhip</td>\n",
       "      <td>N/A</td>\n",
       "      <td>i Peri</td>\n",
       "      <td>None</td>\n",
       "      <td>Barnacle Foods, Juneau, AK, United States\\n   ...</td>\n",
       "    </tr>\n",
       "    <tr>\n",
       "      <th>22</th>\n",
       "      <td>Moroccan Chile Crisp</td>\n",
       "      <td>oo'mämē</td>\n",
       "      <td>N/A</td>\n",
       "      <td>None</td>\n",
       "      <td>None</td>\n",
       "      <td>Fifth Taste Foods, LLC, St Louis, MO, United Stat</td>\n",
       "    </tr>\n",
       "    <tr>\n",
       "      <th>23</th>\n",
       "      <td>Indian Chile Crisp</td>\n",
       "      <td>oo'mämē</td>\n",
       "      <td>N/A</td>\n",
       "      <td>None</td>\n",
       "      <td>None</td>\n",
       "      <td>Fifth Taste Foods, LLC, St Louis, MO, United Stat</td>\n",
       "    </tr>\n",
       "    <tr>\n",
       "      <th>24</th>\n",
       "      <td>DTR Sauce</td>\n",
       "      <td>Tres Bien Cajun Cuisine</td>\n",
       "      <td>5.0 / 5</td>\n",
       "      <td>Tabasco, Carolina Rea</td>\n",
       "      <td>None</td>\n",
       "      <td>Tres Bien Cajun Cuisine, Panama City, FL, Unit...</td>\n",
       "    </tr>\n",
       "    <tr>\n",
       "      <th>25</th>\n",
       "      <td>None</td>\n",
       "      <td>TRUFF Hot Sauce</td>\n",
       "      <td>None</td>\n",
       "      <td>2,500</td>\n",
       "      <td>None</td>\n",
       "      <td>auce Ventures LLC, Huntington Beach, CA, Unite...</td>\n",
       "    </tr>\n",
       "    <tr>\n",
       "      <th>26</th>\n",
       "      <td>Thai Monkey</td>\n",
       "      <td>Captain Thom's</td>\n",
       "      <td>None</td>\n",
       "      <td>Thai</td>\n",
       "      <td>None</td>\n",
       "      <td>Captain Thom's Chili Pepper Co., Baltimore, MD...</td>\n",
       "    </tr>\n",
       "    <tr>\n",
       "      <th>27</th>\n",
       "      <td>Umami</td>\n",
       "      <td>Men Pa'w</td>\n",
       "      <td>None</td>\n",
       "      <td>abanero, Cayenne, Jalapeño</td>\n",
       "      <td>None</td>\n",
       "      <td>Men Pa'w Gourmet Hot Sauces, LLC, Miami, FL, U...</td>\n",
       "    </tr>\n",
       "    <tr>\n",
       "      <th>28</th>\n",
       "      <td>La Bomba</td>\n",
       "      <td>Men Pa'w</td>\n",
       "      <td>N/A</td>\n",
       "      <td>abanero, Bhut Jolokia (Ghost Chili), Scotch Bo...</td>\n",
       "      <td>None</td>\n",
       "      <td>Men Pa'w Gourmet Hot Sauces, LLC, Miami, FL, U...</td>\n",
       "    </tr>\n",
       "    <tr>\n",
       "      <th>29</th>\n",
       "      <td>Hot Pepper Sauce</td>\n",
       "      <td>Shaquanda's</td>\n",
       "      <td>N/A</td>\n",
       "      <td>None</td>\n",
       "      <td>None</td>\n",
       "      <td>haquanda Will Feed You, LLC, Brooklyn, NY, Uni...</td>\n",
       "    </tr>\n",
       "    <tr>\n",
       "      <th>30</th>\n",
       "      <td>Spice Sauce</td>\n",
       "      <td>Cackalacky</td>\n",
       "      <td>N/A</td>\n",
       "      <td>None</td>\n",
       "      <td>None</td>\n",
       "      <td>Cackalacky, Inc., Pittsboro, NC, United Stat</td>\n",
       "    </tr>\n",
       "    <tr>\n",
       "      <th>31</th>\n",
       "      <td>Blazing Hot Sauce</td>\n",
       "      <td>Baron</td>\n",
       "      <td>None</td>\n",
       "      <td>cotch Bonnet</td>\n",
       "      <td>None</td>\n",
       "      <td>Baron, Vieux Fort, Saint Lucia\\n</td>\n",
       "    </tr>\n",
       "    <tr>\n",
       "      <th>32</th>\n",
       "      <td>Chilito Chiltepe</td>\n",
       "      <td>Peqqii</td>\n",
       "      <td>N/A</td>\n",
       "      <td>iquin\\n            \\n</td>\n",
       "      <td>180,000</td>\n",
       "      <td>qqii Products, Guatemala City, Guatemala\\n    ...</td>\n",
       "    </tr>\n",
       "    <tr>\n",
       "      <th>33</th>\n",
       "      <td>Habanero Hot Pepper Sauce</td>\n",
       "      <td>Mayan Fire</td>\n",
       "      <td>N/A</td>\n",
       "      <td>abanero</td>\n",
       "      <td>None</td>\n",
       "      <td>Mayan Fire, Colombia\\n</td>\n",
       "    </tr>\n",
       "    <tr>\n",
       "      <th>34</th>\n",
       "      <td>Hot Hot Soca Sauce</td>\n",
       "      <td>Bazodee</td>\n",
       "      <td>N/A</td>\n",
       "      <td>abanero, Jalapeño, Trinidad Scorpion</td>\n",
       "      <td>None</td>\n",
       "      <td>Mavis Foods, LLC, Morristown, NJ, United State...</td>\n",
       "    </tr>\n",
       "    <tr>\n",
       "      <th>35</th>\n",
       "      <td>Soca Sauce</td>\n",
       "      <td>Bazodee</td>\n",
       "      <td>N/A</td>\n",
       "      <td>abanero, Jalapeño</td>\n",
       "      <td>None</td>\n",
       "      <td>Mavis Foods, LLC, Morristown, NJ, United State...</td>\n",
       "    </tr>\n",
       "    <tr>\n",
       "      <th>36</th>\n",
       "      <td>Pyramid Scheme</td>\n",
       "      <td>Lost Capital Foods</td>\n",
       "      <td>N/A</td>\n",
       "      <td>Jalapeño, Bhut Jolokia (Ghost Chili), Chipotle...</td>\n",
       "      <td>None</td>\n",
       "      <td>Lost Capital Foods, Falcon Heights, MN, United...</td>\n",
       "    </tr>\n",
       "    <tr>\n",
       "      <th>37</th>\n",
       "      <td>Overdraft</td>\n",
       "      <td>Lost Capital Foods</td>\n",
       "      <td>N/A</td>\n",
       "      <td>Jalapeño, Serrano</td>\n",
       "      <td>None</td>\n",
       "      <td>Lost Capital Foods, Falcon Heights, MN, United...</td>\n",
       "    </tr>\n",
       "    <tr>\n",
       "      <th>38</th>\n",
       "      <td>Legal Tender</td>\n",
       "      <td>Lost Capital Foods</td>\n",
       "      <td>N/A</td>\n",
       "      <td>Jalapeño, Serrano, Trinidad Scorpion</td>\n",
       "      <td>None</td>\n",
       "      <td>Lost Capital Foods, Falcon Heights, MN, United...</td>\n",
       "    </tr>\n",
       "    <tr>\n",
       "      <th>39</th>\n",
       "      <td>Gold Digger</td>\n",
       "      <td>Lost Capital Foods</td>\n",
       "      <td>N/A</td>\n",
       "      <td>abanero</td>\n",
       "      <td>None</td>\n",
       "      <td>Lost Capital Foods, Falcon Heights, MN, United...</td>\n",
       "    </tr>\n",
       "    <tr>\n",
       "      <th>40</th>\n",
       "      <td>Death Tax</td>\n",
       "      <td>Lost Capital Foods</td>\n",
       "      <td>N/A</td>\n",
       "      <td>Guajillo, Trinidad Scorpion</td>\n",
       "      <td>None</td>\n",
       "      <td>Lost Capital Foods, Falcon Heights, MN, United...</td>\n",
       "    </tr>\n",
       "    <tr>\n",
       "      <th>41</th>\n",
       "      <td>Bailout</td>\n",
       "      <td>Lost Capital Foods</td>\n",
       "      <td>N/A</td>\n",
       "      <td>abanero, Jalapeño, Guajillo</td>\n",
       "      <td>None</td>\n",
       "      <td>Lost Capital Foods, Falcon Heights, MN, United...</td>\n",
       "    </tr>\n",
       "    <tr>\n",
       "      <th>42</th>\n",
       "      <td>Another Bad Investment</td>\n",
       "      <td>Lost Capital Foods</td>\n",
       "      <td>N/A</td>\n",
       "      <td>abanero, Jalapeño, Bhut Jolokia (Ghost Chili),...</td>\n",
       "      <td>None</td>\n",
       "      <td>Lost Capital Foods, Falcon Heights, MN, United...</td>\n",
       "    </tr>\n",
       "    <tr>\n",
       "      <th>43</th>\n",
       "      <td>XYZ Pique</td>\n",
       "      <td>Sweet Daddy</td>\n",
       "      <td>None</td>\n",
       "      <td>None</td>\n",
       "      <td>None</td>\n",
       "      <td>weet Daddy, San Rafael, CA, United Stat</td>\n",
       "    </tr>\n",
       "    <tr>\n",
       "      <th>44</th>\n",
       "      <td>Maui Pepper Co Mango Meltdown (Medium)</td>\n",
       "      <td>Tahiti Joe's</td>\n",
       "      <td>N/A</td>\n",
       "      <td>abanero</td>\n",
       "      <td>None</td>\n",
       "      <td>Tahiti Joe's, West Palm Beach, FL, United Stat...</td>\n",
       "    </tr>\n",
       "    <tr>\n",
       "      <th>45</th>\n",
       "      <td>Island Tropical Sting</td>\n",
       "      <td>Luau Blast Volcanic Hot Sauce</td>\n",
       "      <td>N/A</td>\n",
       "      <td>abanero</td>\n",
       "      <td>None</td>\n",
       "      <td>Luau Blast Volcanic Hot Sauce, Honolulu, HI, U...</td>\n",
       "    </tr>\n",
       "    <tr>\n",
       "      <th>46</th>\n",
       "      <td>Pimenta Mexicana</td>\n",
       "      <td>Molho Chacon</td>\n",
       "      <td>None</td>\n",
       "      <td>None</td>\n",
       "      <td>None</td>\n",
       "      <td>Molho Chacon, Brazil</td>\n",
       "    </tr>\n",
       "    <tr>\n",
       "      <th>47</th>\n",
       "      <td>Chipotle Hot Sauce</td>\n",
       "      <td>Tia Lupita</td>\n",
       "      <td>None</td>\n",
       "      <td>Chipotl</td>\n",
       "      <td>None</td>\n",
       "      <td>Tia Lupita, Tiburon, CA, United States\\n      ...</td>\n",
       "    </tr>\n",
       "    <tr>\n",
       "      <th>48</th>\n",
       "      <td>Texas Champagne Cayenne Pepper Sauce</td>\n",
       "      <td>D.L. Jardine's</td>\n",
       "      <td>None</td>\n",
       "      <td>Cayenn</td>\n",
       "      <td>None</td>\n",
       "      <td>D.L. Jardine's, United States\\n</td>\n",
       "    </tr>\n",
       "    <tr>\n",
       "      <th>49</th>\n",
       "      <td>Caribbean Style Hot Pepper Sauce</td>\n",
       "      <td>Grace</td>\n",
       "      <td>N/A</td>\n",
       "      <td>abanero, Scotch Bonnet</td>\n",
       "      <td>None</td>\n",
       "      <td>Grace, Kingston, Jamaica\\n</td>\n",
       "    </tr>\n",
       "  </tbody>\n",
       "</table>\n",
       "</div>"
      ],
      "text/plain": [
       "                                           Sauce  \\\n",
       "0                                      Jalapeño    \n",
       "1                                   Black Garlic   \n",
       "2                                Jah Mama Sauce    \n",
       "3                        Purple Haze Double Dose   \n",
       "4                                  Pepper Pastry   \n",
       "5                                Spicy Boi Blend   \n",
       "6                                 Pickle Monster   \n",
       "7                              Tequila Hot Sauce   \n",
       "8   Molho de Pimenta Vermelha: Salsa de Aji Roja   \n",
       "9                                           Nero   \n",
       "10                     Original Hot Pepper Sauce   \n",
       "11                                  Chile Piquín   \n",
       "12            Black Label Reserve Chile Habanero   \n",
       "13               Jamaican Firestick Pepper Sauce   \n",
       "14                            Peach Rum Serrano    \n",
       "15                         Original Blunt Sauce    \n",
       "16                       Ghost Pepper Pineapple    \n",
       "17                      Chipotle Habanero Mango    \n",
       "18                             Habanero & Reaper   \n",
       "19                                   Cheeba Gold   \n",
       "20                  Fermented Habanero Hot Sauce   \n",
       "21                                Kelp Hot Sauce   \n",
       "22                          Moroccan Chile Crisp   \n",
       "23                            Indian Chile Crisp   \n",
       "24                                     DTR Sauce   \n",
       "25                                          None   \n",
       "26                                   Thai Monkey   \n",
       "27                                         Umami   \n",
       "28                                      La Bomba   \n",
       "29                              Hot Pepper Sauce   \n",
       "30                                   Spice Sauce   \n",
       "31                             Blazing Hot Sauce   \n",
       "32                              Chilito Chiltepe   \n",
       "33                     Habanero Hot Pepper Sauce   \n",
       "34                            Hot Hot Soca Sauce   \n",
       "35                                    Soca Sauce   \n",
       "36                                Pyramid Scheme   \n",
       "37                                     Overdraft   \n",
       "38                                  Legal Tender   \n",
       "39                                   Gold Digger   \n",
       "40                                     Death Tax   \n",
       "41                                       Bailout   \n",
       "42                        Another Bad Investment   \n",
       "43                                     XYZ Pique   \n",
       "44        Maui Pepper Co Mango Meltdown (Medium)   \n",
       "45                         Island Tropical Sting   \n",
       "46                              Pimenta Mexicana   \n",
       "47                            Chipotle Hot Sauce   \n",
       "48          Texas Champagne Cayenne Pepper Sauce   \n",
       "49              Caribbean Style Hot Pepper Sauce   \n",
       "\n",
       "                             Company   Rating  \\\n",
       "0   Whitehouse Station Sauce Company      N/A   \n",
       "1                    Jersey Barnfire     None   \n",
       "2                     Roofeeo Landis      N/A   \n",
       "3                 Ric Orlando's Best      N/A   \n",
       "4           Hell's Kitchen Hot Sauce      N/A   \n",
       "5           Pickle Monster Hot Sauce     None   \n",
       "6           Pickle Monster Hot Sauce     None   \n",
       "7                       Swamp Dragon     None   \n",
       "8                             Cepera     None   \n",
       "9                   Tacoma Sauce Co.      N/A   \n",
       "10                            Encona     None   \n",
       "11                   Salsa Indomable      N/A   \n",
       "12                       El Yucateco  4.7 / 5   \n",
       "13                       Walkerswood     None   \n",
       "14                Smok'N Blunt Sauce      N/A   \n",
       "15                Smok'N Blunt Sauce      N/A   \n",
       "16                Smok'N Blunt Sauce      N/A   \n",
       "17                Smok'N Blunt Sauce      N/A   \n",
       "18                      Don Hotsauce      N/A   \n",
       "19                 High River Sauces     None   \n",
       "20                            Iggy's      N/A   \n",
       "21                          Bullwhip      N/A   \n",
       "22                           oo'mämē      N/A   \n",
       "23                           oo'mämē      N/A   \n",
       "24           Tres Bien Cajun Cuisine  5.0 / 5   \n",
       "25                   TRUFF Hot Sauce     None   \n",
       "26                    Captain Thom's     None   \n",
       "27                          Men Pa'w     None   \n",
       "28                          Men Pa'w      N/A   \n",
       "29                       Shaquanda's      N/A   \n",
       "30                        Cackalacky      N/A   \n",
       "31                             Baron     None   \n",
       "32                            Peqqii      N/A   \n",
       "33                        Mayan Fire      N/A   \n",
       "34                           Bazodee      N/A   \n",
       "35                           Bazodee      N/A   \n",
       "36                Lost Capital Foods      N/A   \n",
       "37                Lost Capital Foods      N/A   \n",
       "38                Lost Capital Foods      N/A   \n",
       "39                Lost Capital Foods      N/A   \n",
       "40                Lost Capital Foods      N/A   \n",
       "41                Lost Capital Foods      N/A   \n",
       "42                Lost Capital Foods      N/A   \n",
       "43                       Sweet Daddy     None   \n",
       "44                      Tahiti Joe's      N/A   \n",
       "45     Luau Blast Volcanic Hot Sauce      N/A   \n",
       "46                      Molho Chacon     None   \n",
       "47                        Tia Lupita     None   \n",
       "48                    D.L. Jardine's     None   \n",
       "49                             Grace      N/A   \n",
       "\n",
       "                                              Peppers Scoville  \\\n",
       "0                                            Jalapeño     None   \n",
       "1                                   abanero, Jalapeño     None   \n",
       "2                                cotch Bonnet, Fresno     None   \n",
       "3                               abanero, Carolina Rea     None   \n",
       "4                                    abanero, Fatalii     None   \n",
       "5                          abanero, Jalapeño, Serrano     None   \n",
       "6                                   Jalapeño, Serrano     None   \n",
       "7                                                None     None   \n",
       "8                                            Jalapeño     None   \n",
       "9                            abanero\\n            \\n     3,000   \n",
       "10                             abanero, Scotch Bonnet     None   \n",
       "11                                              Arbol     None   \n",
       "12                                            abanero     None   \n",
       "13                                               None     None   \n",
       "14                         abanero, Jalapeño, Tabasco     None   \n",
       "15                                  abanero, Jalapeño     None   \n",
       "16       abanero, Jalapeño, Bhut Jolokia (Ghost Chili     None   \n",
       "17                                  abanero, Jalapeño     None   \n",
       "18                              abanero, Carolina Rea     None   \n",
       "19                             Fatalii, Scotch Bonnet     None   \n",
       "20                                            abanero     None   \n",
       "21                                             i Peri     None   \n",
       "22                                               None     None   \n",
       "23                                               None     None   \n",
       "24                              Tabasco, Carolina Rea     None   \n",
       "25                                              2,500     None   \n",
       "26                                               Thai     None   \n",
       "27                         abanero, Cayenne, Jalapeño     None   \n",
       "28  abanero, Bhut Jolokia (Ghost Chili), Scotch Bo...     None   \n",
       "29                                               None     None   \n",
       "30                                               None     None   \n",
       "31                                       cotch Bonnet     None   \n",
       "32                             iquin\\n            \\n   180,000   \n",
       "33                                            abanero     None   \n",
       "34               abanero, Jalapeño, Trinidad Scorpion     None   \n",
       "35                                  abanero, Jalapeño     None   \n",
       "36  Jalapeño, Bhut Jolokia (Ghost Chili), Chipotle...     None   \n",
       "37                                  Jalapeño, Serrano     None   \n",
       "38               Jalapeño, Serrano, Trinidad Scorpion     None   \n",
       "39                                            abanero     None   \n",
       "40                        Guajillo, Trinidad Scorpion     None   \n",
       "41                        abanero, Jalapeño, Guajillo     None   \n",
       "42  abanero, Jalapeño, Bhut Jolokia (Ghost Chili),...     None   \n",
       "43                                               None     None   \n",
       "44                                            abanero     None   \n",
       "45                                            abanero     None   \n",
       "46                                               None     None   \n",
       "47                                            Chipotl     None   \n",
       "48                                             Cayenn     None   \n",
       "49                             abanero, Scotch Bonnet     None   \n",
       "\n",
       "                                              Address  \n",
       "0   Whitehouse Station Sauce Company, Whitehouse S...  \n",
       "1   Jersey Barnfire, Sparta, NJ, United States\\n  ...  \n",
       "2   Roofeeo Landis, Los Angeles , CA, United State...  \n",
       "3   Ric Orlando's Best, West Hurley, NY, United St...  \n",
       "4   ell's Kitchen Hot Sauce, New York, NY, United ...  \n",
       "5   ickle Monster Hot Sauce, Philadelphia, PA, Uni...  \n",
       "6   ickle Monster Hot Sauce, Philadelphia, PA, Uni...  \n",
       "7           wamp Dragon, Baton Rouge, LA, United Stat  \n",
       "8                        Cepera, Brazil\\n              \n",
       "9   Tacoma Sauce Co., Tacoma, United States\\n     ...  \n",
       "10          Grace Foods, United Kingdom\\n              \n",
       "11  alsa Indomable, Nuevo León , Mexico\\n              \n",
       "12                  El Yucateco, Mexico\\n              \n",
       "13                     Walkerswood, Kingston, Jamaica  \n",
       "14  mok'N Blunt Sauce, New Kent , VA, United State...  \n",
       "15  mok'N Blunt Sauce, New Kent , VA, United State...  \n",
       "16  mok'N Blunt Sauce, New Kent, VA, United States...  \n",
       "17  mok'N Blunt Sauce, New Kent, VA, United States...  \n",
       "18  Don Hotsauce , Sankt Gallen , Switzerland\\n   ...  \n",
       "19  igh River Sauces, King's Park, NY, United Stat...  \n",
       "20  Iggy's Alive & Cultured, Bainbridge Island, WA...  \n",
       "21  Barnacle Foods, Juneau, AK, United States\\n   ...  \n",
       "22  Fifth Taste Foods, LLC, St Louis, MO, United Stat  \n",
       "23  Fifth Taste Foods, LLC, St Louis, MO, United Stat  \n",
       "24  Tres Bien Cajun Cuisine, Panama City, FL, Unit...  \n",
       "25  auce Ventures LLC, Huntington Beach, CA, Unite...  \n",
       "26  Captain Thom's Chili Pepper Co., Baltimore, MD...  \n",
       "27  Men Pa'w Gourmet Hot Sauces, LLC, Miami, FL, U...  \n",
       "28  Men Pa'w Gourmet Hot Sauces, LLC, Miami, FL, U...  \n",
       "29  haquanda Will Feed You, LLC, Brooklyn, NY, Uni...  \n",
       "30       Cackalacky, Inc., Pittsboro, NC, United Stat  \n",
       "31       Baron, Vieux Fort, Saint Lucia\\n              \n",
       "32  qqii Products, Guatemala City, Guatemala\\n    ...  \n",
       "33                 Mayan Fire, Colombia\\n              \n",
       "34  Mavis Foods, LLC, Morristown, NJ, United State...  \n",
       "35  Mavis Foods, LLC, Morristown, NJ, United State...  \n",
       "36  Lost Capital Foods, Falcon Heights, MN, United...  \n",
       "37  Lost Capital Foods, Falcon Heights, MN, United...  \n",
       "38  Lost Capital Foods, Falcon Heights, MN, United...  \n",
       "39  Lost Capital Foods, Falcon Heights, MN, United...  \n",
       "40  Lost Capital Foods, Falcon Heights, MN, United...  \n",
       "41  Lost Capital Foods, Falcon Heights, MN, United...  \n",
       "42  Lost Capital Foods, Falcon Heights, MN, United...  \n",
       "43            weet Daddy, San Rafael, CA, United Stat  \n",
       "44  Tahiti Joe's, West Palm Beach, FL, United Stat...  \n",
       "45  Luau Blast Volcanic Hot Sauce, Honolulu, HI, U...  \n",
       "46                               Molho Chacon, Brazil  \n",
       "47  Tia Lupita, Tiburon, CA, United States\\n      ...  \n",
       "48        D.L. Jardine's, United States\\n              \n",
       "49             Grace, Kingston, Jamaica\\n              "
      ]
     },
     "execution_count": 16,
     "metadata": {},
     "output_type": "execute_result"
    }
   ],
   "source": [
    "result1"
   ]
  },
  {
   "cell_type": "code",
   "execution_count": null,
   "metadata": {},
   "outputs": [],
   "source": [
    "#result1.drop(result1.columns[[4]], axis=1, inplace=True)"
   ]
  },
  {
   "cell_type": "code",
   "execution_count": 17,
   "metadata": {},
   "outputs": [],
   "source": [
    "result1['Rating'] = result1['Rating'].replace(np.nan, 0)"
   ]
  },
  {
   "cell_type": "code",
   "execution_count": 18,
   "metadata": {},
   "outputs": [],
   "source": [
    "result1 = result1.drop_duplicates()"
   ]
  },
  {
   "cell_type": "code",
   "execution_count": null,
   "metadata": {},
   "outputs": [],
   "source": []
  },
  {
   "cell_type": "markdown",
   "metadata": {},
   "source": [
    "#### Randomise Rating Due to lack of info"
   ]
  },
  {
   "cell_type": "code",
   "execution_count": 20,
   "metadata": {},
   "outputs": [],
   "source": [
    "np.random.seed(42)\n",
    "result1['Rating'] = np.round(np.random.uniform(3.2, 5.0, size=(len(result1), 1)), 1)"
   ]
  },
  {
   "cell_type": "code",
   "execution_count": 25,
   "metadata": {},
   "outputs": [],
   "source": [
    "result1['Scoville'] = np.round(np.random.uniform(1000, 1160000, size=(len(result1), 1)), 1)"
   ]
  },
  {
   "cell_type": "code",
   "execution_count": 64,
   "metadata": {},
   "outputs": [],
   "source": [
    "result1['Price'] = np.round(np.random.uniform(4.99, 30.00, size=(len(result1), 1)), 2)"
   ]
  },
  {
   "cell_type": "code",
   "execution_count": 66,
   "metadata": {},
   "outputs": [],
   "source": [
    "#result1['Price'].value_counts()"
   ]
  },
  {
   "cell_type": "markdown",
   "metadata": {},
   "source": [
    "### Data Visualisation"
   ]
  },
  {
   "cell_type": "code",
   "execution_count": 67,
   "metadata": {},
   "outputs": [],
   "source": [
    "pepper_count = result1.groupby('Peppers').mean()"
   ]
  },
  {
   "cell_type": "code",
   "execution_count": 68,
   "metadata": {},
   "outputs": [],
   "source": [
    "pepper_count = pepper_count.reset_index(level=0)"
   ]
  },
  {
   "cell_type": "code",
   "execution_count": 71,
   "metadata": {},
   "outputs": [
    {
     "data": {
      "application/vnd.plotly.v1+json": {
       "config": {
        "plotlyServerURL": "https://plot.ly"
       },
       "data": [
        {
         "hovertemplate": "Rating=%{x}<br>Scoville=%{y}<br>Peppers=%{z}<br>Price=%{marker.color}<extra></extra>",
         "legendgroup": "",
         "marker": {
          "color": [
           9.35,
           20.8,
           27.18,
           27.43,
           19.77,
           7.32,
           19.32,
           25.43,
           20.34,
           18.24,
           21.13,
           22.27,
           17.988333333333333,
           23.2,
           28.42,
           11.620000000000001,
           14.66,
           29.64,
           17.002499999999998,
           13.01,
           27.51,
           27.43,
           11.04,
           7.25,
           11.44,
           19.34,
           7.83,
           8.61,
           5.4,
           28.12
          ],
          "coloraxis": "coloraxis",
          "symbol": "circle"
         },
         "mode": "markers",
         "name": "",
         "scene": "scene",
         "showlegend": false,
         "type": "scatter3d",
         "x": [
          4.6,
          4.9,
          4.2,
          4.1,
          3.7,
          3.4,
          4.1,
          3.7,
          3.3499999999999996,
          4.4,
          4,
          3.6,
          4.333333333333333,
          4.5,
          4.3,
          4.15,
          4.1,
          3.5,
          4.3,
          3.7,
          3.3,
          4.1,
          3.5,
          3.5,
          4.9,
          3.35,
          3.5,
          4.5,
          3.5,
          3.3
         ],
         "y": [
          845919.3,
          315493.5,
          30460.8,
          496520,
          1144802,
          139609.7,
          589083.5,
          846613.6,
          421745.95,
          1029279.6,
          820247.7,
          894902.3,
          658059.9666666667,
          378057.9,
          416461.8,
          562754.55,
          86817.8,
          693966.1,
          709499.375,
          164331.2,
          882749.9,
          827650.7,
          1069452.2,
          326603.1,
          361428.5,
          288761.6,
          723402.5,
          1089879.3,
          231311.5,
          384510.8
         ],
         "z": [
          "2,500",
          "Arbol",
          "Cayenn",
          "Chipotl",
          "Fatalii, Scotch Bonnet",
          "Guajillo, Trinidad Scorpion",
          "Jalapeño",
          "Jalapeño, Bhut Jolokia (Ghost Chili), Chipotle, Arbol",
          "Jalapeño, Serrano",
          "Jalapeño, Serrano, Trinidad Scorpion",
          "Tabasco, Carolina Rea",
          "Thai",
          "abanero",
          "abanero\n            \n ",
          "abanero, Bhut Jolokia (Ghost Chili), Scotch Bonnet",
          "abanero, Carolina Rea",
          "abanero, Cayenne, Jalapeño",
          "abanero, Fatalii",
          "abanero, Jalapeño",
          "abanero, Jalapeño, Bhut Jolokia (Ghost Chili",
          "abanero, Jalapeño, Bhut Jolokia (Ghost Chili), Arbol, Guajillo",
          "abanero, Jalapeño, Guajillo",
          "abanero, Jalapeño, Serrano",
          "abanero, Jalapeño, Tabasco",
          "abanero, Jalapeño, Trinidad Scorpion",
          "abanero, Scotch Bonnet",
          "cotch Bonnet",
          "cotch Bonnet, Fresno",
          "i Peri",
          "iquin\n            \n "
         ]
        }
       ],
       "layout": {
        "autosize": false,
        "coloraxis": {
         "colorbar": {
          "title": {
           "text": "Price"
          }
         },
         "colorscale": [
          [
           0,
           "#0d0887"
          ],
          [
           0.1111111111111111,
           "#46039f"
          ],
          [
           0.2222222222222222,
           "#7201a8"
          ],
          [
           0.3333333333333333,
           "#9c179e"
          ],
          [
           0.4444444444444444,
           "#bd3786"
          ],
          [
           0.5555555555555556,
           "#d8576b"
          ],
          [
           0.6666666666666666,
           "#ed7953"
          ],
          [
           0.7777777777777778,
           "#fb9f3a"
          ],
          [
           0.8888888888888888,
           "#fdca26"
          ],
          [
           1,
           "#f0f921"
          ]
         ]
        },
        "height": 400,
        "legend": {
         "tracegroupgap": 0
        },
        "margin": {
         "t": 60
        },
        "scene": {
         "aspectmode": "auto",
         "aspectratio": {
          "x": 1,
          "y": 1,
          "z": 1
         },
         "camera": {
          "center": {
           "x": 0,
           "y": 0,
           "z": 0
          },
          "eye": {
           "x": -0.7814560773056302,
           "y": 1.3064170054303448,
           "z": 0.1139101183025495
          },
          "projection": {
           "type": "perspective"
          },
          "up": {
           "x": 0,
           "y": 0,
           "z": 1
          }
         },
         "domain": {
          "x": [
           0,
           1
          ],
          "y": [
           0,
           1
          ]
         },
         "xaxis": {
          "title": {
           "text": "Rating"
          },
          "type": "linear"
         },
         "yaxis": {
          "title": {
           "text": "Scoville"
          },
          "type": "linear"
         },
         "zaxis": {
          "title": {
           "text": "Peppers"
          },
          "type": "category"
         }
        },
        "showlegend": true,
        "template": {
         "data": {
          "bar": [
           {
            "error_x": {
             "color": "#2a3f5f"
            },
            "error_y": {
             "color": "#2a3f5f"
            },
            "marker": {
             "line": {
              "color": "#E5ECF6",
              "width": 0.5
             },
             "pattern": {
              "fillmode": "overlay",
              "size": 10,
              "solidity": 0.2
             }
            },
            "type": "bar"
           }
          ],
          "barpolar": [
           {
            "marker": {
             "line": {
              "color": "#E5ECF6",
              "width": 0.5
             },
             "pattern": {
              "fillmode": "overlay",
              "size": 10,
              "solidity": 0.2
             }
            },
            "type": "barpolar"
           }
          ],
          "carpet": [
           {
            "aaxis": {
             "endlinecolor": "#2a3f5f",
             "gridcolor": "white",
             "linecolor": "white",
             "minorgridcolor": "white",
             "startlinecolor": "#2a3f5f"
            },
            "baxis": {
             "endlinecolor": "#2a3f5f",
             "gridcolor": "white",
             "linecolor": "white",
             "minorgridcolor": "white",
             "startlinecolor": "#2a3f5f"
            },
            "type": "carpet"
           }
          ],
          "choropleth": [
           {
            "colorbar": {
             "outlinewidth": 0,
             "ticks": ""
            },
            "type": "choropleth"
           }
          ],
          "contour": [
           {
            "colorbar": {
             "outlinewidth": 0,
             "ticks": ""
            },
            "colorscale": [
             [
              0,
              "#0d0887"
             ],
             [
              0.1111111111111111,
              "#46039f"
             ],
             [
              0.2222222222222222,
              "#7201a8"
             ],
             [
              0.3333333333333333,
              "#9c179e"
             ],
             [
              0.4444444444444444,
              "#bd3786"
             ],
             [
              0.5555555555555556,
              "#d8576b"
             ],
             [
              0.6666666666666666,
              "#ed7953"
             ],
             [
              0.7777777777777778,
              "#fb9f3a"
             ],
             [
              0.8888888888888888,
              "#fdca26"
             ],
             [
              1,
              "#f0f921"
             ]
            ],
            "type": "contour"
           }
          ],
          "contourcarpet": [
           {
            "colorbar": {
             "outlinewidth": 0,
             "ticks": ""
            },
            "type": "contourcarpet"
           }
          ],
          "heatmap": [
           {
            "colorbar": {
             "outlinewidth": 0,
             "ticks": ""
            },
            "colorscale": [
             [
              0,
              "#0d0887"
             ],
             [
              0.1111111111111111,
              "#46039f"
             ],
             [
              0.2222222222222222,
              "#7201a8"
             ],
             [
              0.3333333333333333,
              "#9c179e"
             ],
             [
              0.4444444444444444,
              "#bd3786"
             ],
             [
              0.5555555555555556,
              "#d8576b"
             ],
             [
              0.6666666666666666,
              "#ed7953"
             ],
             [
              0.7777777777777778,
              "#fb9f3a"
             ],
             [
              0.8888888888888888,
              "#fdca26"
             ],
             [
              1,
              "#f0f921"
             ]
            ],
            "type": "heatmap"
           }
          ],
          "heatmapgl": [
           {
            "colorbar": {
             "outlinewidth": 0,
             "ticks": ""
            },
            "colorscale": [
             [
              0,
              "#0d0887"
             ],
             [
              0.1111111111111111,
              "#46039f"
             ],
             [
              0.2222222222222222,
              "#7201a8"
             ],
             [
              0.3333333333333333,
              "#9c179e"
             ],
             [
              0.4444444444444444,
              "#bd3786"
             ],
             [
              0.5555555555555556,
              "#d8576b"
             ],
             [
              0.6666666666666666,
              "#ed7953"
             ],
             [
              0.7777777777777778,
              "#fb9f3a"
             ],
             [
              0.8888888888888888,
              "#fdca26"
             ],
             [
              1,
              "#f0f921"
             ]
            ],
            "type": "heatmapgl"
           }
          ],
          "histogram": [
           {
            "marker": {
             "pattern": {
              "fillmode": "overlay",
              "size": 10,
              "solidity": 0.2
             }
            },
            "type": "histogram"
           }
          ],
          "histogram2d": [
           {
            "colorbar": {
             "outlinewidth": 0,
             "ticks": ""
            },
            "colorscale": [
             [
              0,
              "#0d0887"
             ],
             [
              0.1111111111111111,
              "#46039f"
             ],
             [
              0.2222222222222222,
              "#7201a8"
             ],
             [
              0.3333333333333333,
              "#9c179e"
             ],
             [
              0.4444444444444444,
              "#bd3786"
             ],
             [
              0.5555555555555556,
              "#d8576b"
             ],
             [
              0.6666666666666666,
              "#ed7953"
             ],
             [
              0.7777777777777778,
              "#fb9f3a"
             ],
             [
              0.8888888888888888,
              "#fdca26"
             ],
             [
              1,
              "#f0f921"
             ]
            ],
            "type": "histogram2d"
           }
          ],
          "histogram2dcontour": [
           {
            "colorbar": {
             "outlinewidth": 0,
             "ticks": ""
            },
            "colorscale": [
             [
              0,
              "#0d0887"
             ],
             [
              0.1111111111111111,
              "#46039f"
             ],
             [
              0.2222222222222222,
              "#7201a8"
             ],
             [
              0.3333333333333333,
              "#9c179e"
             ],
             [
              0.4444444444444444,
              "#bd3786"
             ],
             [
              0.5555555555555556,
              "#d8576b"
             ],
             [
              0.6666666666666666,
              "#ed7953"
             ],
             [
              0.7777777777777778,
              "#fb9f3a"
             ],
             [
              0.8888888888888888,
              "#fdca26"
             ],
             [
              1,
              "#f0f921"
             ]
            ],
            "type": "histogram2dcontour"
           }
          ],
          "mesh3d": [
           {
            "colorbar": {
             "outlinewidth": 0,
             "ticks": ""
            },
            "type": "mesh3d"
           }
          ],
          "parcoords": [
           {
            "line": {
             "colorbar": {
              "outlinewidth": 0,
              "ticks": ""
             }
            },
            "type": "parcoords"
           }
          ],
          "pie": [
           {
            "automargin": true,
            "type": "pie"
           }
          ],
          "scatter": [
           {
            "marker": {
             "colorbar": {
              "outlinewidth": 0,
              "ticks": ""
             }
            },
            "type": "scatter"
           }
          ],
          "scatter3d": [
           {
            "line": {
             "colorbar": {
              "outlinewidth": 0,
              "ticks": ""
             }
            },
            "marker": {
             "colorbar": {
              "outlinewidth": 0,
              "ticks": ""
             }
            },
            "type": "scatter3d"
           }
          ],
          "scattercarpet": [
           {
            "marker": {
             "colorbar": {
              "outlinewidth": 0,
              "ticks": ""
             }
            },
            "type": "scattercarpet"
           }
          ],
          "scattergeo": [
           {
            "marker": {
             "colorbar": {
              "outlinewidth": 0,
              "ticks": ""
             }
            },
            "type": "scattergeo"
           }
          ],
          "scattergl": [
           {
            "marker": {
             "colorbar": {
              "outlinewidth": 0,
              "ticks": ""
             }
            },
            "type": "scattergl"
           }
          ],
          "scattermapbox": [
           {
            "marker": {
             "colorbar": {
              "outlinewidth": 0,
              "ticks": ""
             }
            },
            "type": "scattermapbox"
           }
          ],
          "scatterpolar": [
           {
            "marker": {
             "colorbar": {
              "outlinewidth": 0,
              "ticks": ""
             }
            },
            "type": "scatterpolar"
           }
          ],
          "scatterpolargl": [
           {
            "marker": {
             "colorbar": {
              "outlinewidth": 0,
              "ticks": ""
             }
            },
            "type": "scatterpolargl"
           }
          ],
          "scatterternary": [
           {
            "marker": {
             "colorbar": {
              "outlinewidth": 0,
              "ticks": ""
             }
            },
            "type": "scatterternary"
           }
          ],
          "surface": [
           {
            "colorbar": {
             "outlinewidth": 0,
             "ticks": ""
            },
            "colorscale": [
             [
              0,
              "#0d0887"
             ],
             [
              0.1111111111111111,
              "#46039f"
             ],
             [
              0.2222222222222222,
              "#7201a8"
             ],
             [
              0.3333333333333333,
              "#9c179e"
             ],
             [
              0.4444444444444444,
              "#bd3786"
             ],
             [
              0.5555555555555556,
              "#d8576b"
             ],
             [
              0.6666666666666666,
              "#ed7953"
             ],
             [
              0.7777777777777778,
              "#fb9f3a"
             ],
             [
              0.8888888888888888,
              "#fdca26"
             ],
             [
              1,
              "#f0f921"
             ]
            ],
            "type": "surface"
           }
          ],
          "table": [
           {
            "cells": {
             "fill": {
              "color": "#EBF0F8"
             },
             "line": {
              "color": "white"
             }
            },
            "header": {
             "fill": {
              "color": "#C8D4E3"
             },
             "line": {
              "color": "white"
             }
            },
            "type": "table"
           }
          ]
         },
         "layout": {
          "annotationdefaults": {
           "arrowcolor": "#2a3f5f",
           "arrowhead": 0,
           "arrowwidth": 1
          },
          "autotypenumbers": "strict",
          "coloraxis": {
           "colorbar": {
            "outlinewidth": 0,
            "ticks": ""
           }
          },
          "colorscale": {
           "diverging": [
            [
             0,
             "#8e0152"
            ],
            [
             0.1,
             "#c51b7d"
            ],
            [
             0.2,
             "#de77ae"
            ],
            [
             0.3,
             "#f1b6da"
            ],
            [
             0.4,
             "#fde0ef"
            ],
            [
             0.5,
             "#f7f7f7"
            ],
            [
             0.6,
             "#e6f5d0"
            ],
            [
             0.7,
             "#b8e186"
            ],
            [
             0.8,
             "#7fbc41"
            ],
            [
             0.9,
             "#4d9221"
            ],
            [
             1,
             "#276419"
            ]
           ],
           "sequential": [
            [
             0,
             "#0d0887"
            ],
            [
             0.1111111111111111,
             "#46039f"
            ],
            [
             0.2222222222222222,
             "#7201a8"
            ],
            [
             0.3333333333333333,
             "#9c179e"
            ],
            [
             0.4444444444444444,
             "#bd3786"
            ],
            [
             0.5555555555555556,
             "#d8576b"
            ],
            [
             0.6666666666666666,
             "#ed7953"
            ],
            [
             0.7777777777777778,
             "#fb9f3a"
            ],
            [
             0.8888888888888888,
             "#fdca26"
            ],
            [
             1,
             "#f0f921"
            ]
           ],
           "sequentialminus": [
            [
             0,
             "#0d0887"
            ],
            [
             0.1111111111111111,
             "#46039f"
            ],
            [
             0.2222222222222222,
             "#7201a8"
            ],
            [
             0.3333333333333333,
             "#9c179e"
            ],
            [
             0.4444444444444444,
             "#bd3786"
            ],
            [
             0.5555555555555556,
             "#d8576b"
            ],
            [
             0.6666666666666666,
             "#ed7953"
            ],
            [
             0.7777777777777778,
             "#fb9f3a"
            ],
            [
             0.8888888888888888,
             "#fdca26"
            ],
            [
             1,
             "#f0f921"
            ]
           ]
          },
          "colorway": [
           "#636efa",
           "#EF553B",
           "#00cc96",
           "#ab63fa",
           "#FFA15A",
           "#19d3f3",
           "#FF6692",
           "#B6E880",
           "#FF97FF",
           "#FECB52"
          ],
          "font": {
           "color": "#2a3f5f"
          },
          "geo": {
           "bgcolor": "white",
           "lakecolor": "white",
           "landcolor": "#E5ECF6",
           "showlakes": true,
           "showland": true,
           "subunitcolor": "white"
          },
          "hoverlabel": {
           "align": "left"
          },
          "hovermode": "closest",
          "mapbox": {
           "style": "light"
          },
          "paper_bgcolor": "white",
          "plot_bgcolor": "#E5ECF6",
          "polar": {
           "angularaxis": {
            "gridcolor": "white",
            "linecolor": "white",
            "ticks": ""
           },
           "bgcolor": "#E5ECF6",
           "radialaxis": {
            "gridcolor": "white",
            "linecolor": "white",
            "ticks": ""
           }
          },
          "scene": {
           "xaxis": {
            "backgroundcolor": "#E5ECF6",
            "gridcolor": "white",
            "gridwidth": 2,
            "linecolor": "white",
            "showbackground": true,
            "ticks": "",
            "zerolinecolor": "white"
           },
           "yaxis": {
            "backgroundcolor": "#E5ECF6",
            "gridcolor": "white",
            "gridwidth": 2,
            "linecolor": "white",
            "showbackground": true,
            "ticks": "",
            "zerolinecolor": "white"
           },
           "zaxis": {
            "backgroundcolor": "#E5ECF6",
            "gridcolor": "white",
            "gridwidth": 2,
            "linecolor": "white",
            "showbackground": true,
            "ticks": "",
            "zerolinecolor": "white"
           }
          },
          "shapedefaults": {
           "line": {
            "color": "#2a3f5f"
           }
          },
          "ternary": {
           "aaxis": {
            "gridcolor": "white",
            "linecolor": "white",
            "ticks": ""
           },
           "baxis": {
            "gridcolor": "white",
            "linecolor": "white",
            "ticks": ""
           },
           "bgcolor": "#E5ECF6",
           "caxis": {
            "gridcolor": "white",
            "linecolor": "white",
            "ticks": ""
           }
          },
          "title": {
           "x": 0.05
          },
          "xaxis": {
           "automargin": true,
           "gridcolor": "white",
           "linecolor": "white",
           "ticks": "",
           "title": {
            "standoff": 15
           },
           "zerolinecolor": "white",
           "zerolinewidth": 2
          },
          "yaxis": {
           "automargin": true,
           "gridcolor": "white",
           "linecolor": "white",
           "ticks": "",
           "title": {
            "standoff": 15
           },
           "zerolinecolor": "white",
           "zerolinewidth": 2
          }
         }
        },
        "width": 800
       }
      },
      "image/png": "[encoded data removed]",
      "text/html": [
       "<div>                            <div id=\"58ab7003-f12b-421d-905d-f297ccc2d974\" class=\"plotly-graph-div\" style=\"height:400px; width:800px;\"></div>            <script type=\"text/javascript\">                require([\"plotly\"], function(Plotly) {                    window.PLOTLYENV=window.PLOTLYENV || {};                                    if (document.getElementById(\"58ab7003-f12b-421d-905d-f297ccc2d974\")) {                    Plotly.newPlot(                        \"58ab7003-f12b-421d-905d-f297ccc2d974\",                        [{\"hovertemplate\":\"Rating=%{x}<br>Scoville=%{y}<br>Peppers=%{z}<br>Price=%{marker.color}<extra></extra>\",\"legendgroup\":\"\",\"marker\":{\"color\":[9.35,20.8,27.18,27.43,19.77,7.32,19.32,25.43,20.34,18.24,21.13,22.27,17.988333333333333,23.2,28.42,11.620000000000001,14.66,29.64,17.002499999999998,13.01,27.51,27.43,11.04,7.25,11.44,19.34,7.83,8.61,5.4,28.12],\"coloraxis\":\"coloraxis\",\"symbol\":\"circle\"},\"mode\":\"markers\",\"name\":\"\",\"scene\":\"scene\",\"showlegend\":false,\"x\":[4.6,4.9,4.2,4.1,3.7,3.4,4.1,3.7,3.3499999999999996,4.4,4.0,3.6,4.333333333333333,4.5,4.3,4.15,4.1,3.5,4.3,3.7,3.3,4.1,3.5,3.5,4.9,3.35,3.5,4.5,3.5,3.3],\"y\":[845919.3,315493.5,30460.8,496520.0,1144802.0,139609.7,589083.5,846613.6,421745.95,1029279.6,820247.7,894902.3,658059.9666666667,378057.9,416461.8,562754.55,86817.8,693966.1,709499.375,164331.2,882749.9,827650.7,1069452.2,326603.1,361428.5,288761.6,723402.5,1089879.3,231311.5,384510.8],\"z\":[\"2,500\",\"Arbol\",\"Cayenn\",\"Chipotl\",\"Fatalii, Scotch Bonnet\",\"Guajillo, Trinidad Scorpion\",\"Jalape\\u00f1o\",\"Jalape\\u00f1o, Bhut Jolokia (Ghost Chili), Chipotle, Arbol\",\"Jalape\\u00f1o, Serrano\",\"Jalape\\u00f1o, Serrano, Trinidad Scorpion\",\"Tabasco, Carolina Rea\",\"Thai\",\"abanero\",\"abanero\\n            \\n \",\"abanero, Bhut Jolokia (Ghost Chili), Scotch Bonnet\",\"abanero, Carolina Rea\",\"abanero, Cayenne, Jalape\\u00f1o\",\"abanero, Fatalii\",\"abanero, Jalape\\u00f1o\",\"abanero, Jalape\\u00f1o, Bhut Jolokia (Ghost Chili\",\"abanero, Jalape\\u00f1o, Bhut Jolokia (Ghost Chili), Arbol, Guajillo\",\"abanero, Jalape\\u00f1o, Guajillo\",\"abanero, Jalape\\u00f1o, Serrano\",\"abanero, Jalape\\u00f1o, Tabasco\",\"abanero, Jalape\\u00f1o, Trinidad Scorpion\",\"abanero, Scotch Bonnet\",\"cotch Bonnet\",\"cotch Bonnet, Fresno\",\"i Peri\",\"iquin\\n            \\n \"],\"type\":\"scatter3d\"}],                        {\"template\":{\"data\":{\"bar\":[{\"error_x\":{\"color\":\"#2a3f5f\"},\"error_y\":{\"color\":\"#2a3f5f\"},\"marker\":{\"line\":{\"color\":\"#E5ECF6\",\"width\":0.5},\"pattern\":{\"fillmode\":\"overlay\",\"size\":10,\"solidity\":0.2}},\"type\":\"bar\"}],\"barpolar\":[{\"marker\":{\"line\":{\"color\":\"#E5ECF6\",\"width\":0.5},\"pattern\":{\"fillmode\":\"overlay\",\"size\":10,\"solidity\":0.2}},\"type\":\"barpolar\"}],\"carpet\":[{\"aaxis\":{\"endlinecolor\":\"#2a3f5f\",\"gridcolor\":\"white\",\"linecolor\":\"white\",\"minorgridcolor\":\"white\",\"startlinecolor\":\"#2a3f5f\"},\"baxis\":{\"endlinecolor\":\"#2a3f5f\",\"gridcolor\":\"white\",\"linecolor\":\"white\",\"minorgridcolor\":\"white\",\"startlinecolor\":\"#2a3f5f\"},\"type\":\"carpet\"}],\"choropleth\":[{\"colorbar\":{\"outlinewidth\":0,\"ticks\":\"\"},\"type\":\"choropleth\"}],\"contour\":[{\"colorbar\":{\"outlinewidth\":0,\"ticks\":\"\"},\"colorscale\":[[0.0,\"#0d0887\"],[0.1111111111111111,\"#46039f\"],[0.2222222222222222,\"#7201a8\"],[0.3333333333333333,\"#9c179e\"],[0.4444444444444444,\"#bd3786\"],[0.5555555555555556,\"#d8576b\"],[0.6666666666666666,\"#ed7953\"],[0.7777777777777778,\"#fb9f3a\"],[0.8888888888888888,\"#fdca26\"],[1.0,\"#f0f921\"]],\"type\":\"contour\"}],\"contourcarpet\":[{\"colorbar\":{\"outlinewidth\":0,\"ticks\":\"\"},\"type\":\"contourcarpet\"}],\"heatmap\":[{\"colorbar\":{\"outlinewidth\":0,\"ticks\":\"\"},\"colorscale\":[[0.0,\"#0d0887\"],[0.1111111111111111,\"#46039f\"],[0.2222222222222222,\"#7201a8\"],[0.3333333333333333,\"#9c179e\"],[0.4444444444444444,\"#bd3786\"],[0.5555555555555556,\"#d8576b\"],[0.6666666666666666,\"#ed7953\"],[0.7777777777777778,\"#fb9f3a\"],[0.8888888888888888,\"#fdca26\"],[1.0,\"#f0f921\"]],\"type\":\"heatmap\"}],\"heatmapgl\":[{\"colorbar\":{\"outlinewidth\":0,\"ticks\":\"\"},\"colorscale\":[[0.0,\"#0d0887\"],[0.1111111111111111,\"#46039f\"],[0.2222222222222222,\"#7201a8\"],[0.3333333333333333,\"#9c179e\"],[0.4444444444444444,\"#bd3786\"],[0.5555555555555556,\"#d8576b\"],[0.6666666666666666,\"#ed7953\"],[0.7777777777777778,\"#fb9f3a\"],[0.8888888888888888,\"#fdca26\"],[1.0,\"#f0f921\"]],\"type\":\"heatmapgl\"}],\"histogram\":[{\"marker\":{\"pattern\":{\"fillmode\":\"overlay\",\"size\":10,\"solidity\":0.2}},\"type\":\"histogram\"}],\"histogram2d\":[{\"colorbar\":{\"outlinewidth\":0,\"ticks\":\"\"},\"colorscale\":[[0.0,\"#0d0887\"],[0.1111111111111111,\"#46039f\"],[0.2222222222222222,\"#7201a8\"],[0.3333333333333333,\"#9c179e\"],[0.4444444444444444,\"#bd3786\"],[0.5555555555555556,\"#d8576b\"],[0.6666666666666666,\"#ed7953\"],[0.7777777777777778,\"#fb9f3a\"],[0.8888888888888888,\"#fdca26\"],[1.0,\"#f0f921\"]],\"type\":\"histogram2d\"}],\"histogram2dcontour\":[{\"colorbar\":{\"outlinewidth\":0,\"ticks\":\"\"},\"colorscale\":[[0.0,\"#0d0887\"],[0.1111111111111111,\"#46039f\"],[0.2222222222222222,\"#7201a8\"],[0.3333333333333333,\"#9c179e\"],[0.4444444444444444,\"#bd3786\"],[0.5555555555555556,\"#d8576b\"],[0.6666666666666666,\"#ed7953\"],[0.7777777777777778,\"#fb9f3a\"],[0.8888888888888888,\"#fdca26\"],[1.0,\"#f0f921\"]],\"type\":\"histogram2dcontour\"}],\"mesh3d\":[{\"colorbar\":{\"outlinewidth\":0,\"ticks\":\"\"},\"type\":\"mesh3d\"}],\"parcoords\":[{\"line\":{\"colorbar\":{\"outlinewidth\":0,\"ticks\":\"\"}},\"type\":\"parcoords\"}],\"pie\":[{\"automargin\":true,\"type\":\"pie\"}],\"scatter\":[{\"marker\":{\"colorbar\":{\"outlinewidth\":0,\"ticks\":\"\"}},\"type\":\"scatter\"}],\"scatter3d\":[{\"line\":{\"colorbar\":{\"outlinewidth\":0,\"ticks\":\"\"}},\"marker\":{\"colorbar\":{\"outlinewidth\":0,\"ticks\":\"\"}},\"type\":\"scatter3d\"}],\"scattercarpet\":[{\"marker\":{\"colorbar\":{\"outlinewidth\":0,\"ticks\":\"\"}},\"type\":\"scattercarpet\"}],\"scattergeo\":[{\"marker\":{\"colorbar\":{\"outlinewidth\":0,\"ticks\":\"\"}},\"type\":\"scattergeo\"}],\"scattergl\":[{\"marker\":{\"colorbar\":{\"outlinewidth\":0,\"ticks\":\"\"}},\"type\":\"scattergl\"}],\"scattermapbox\":[{\"marker\":{\"colorbar\":{\"outlinewidth\":0,\"ticks\":\"\"}},\"type\":\"scattermapbox\"}],\"scatterpolar\":[{\"marker\":{\"colorbar\":{\"outlinewidth\":0,\"ticks\":\"\"}},\"type\":\"scatterpolar\"}],\"scatterpolargl\":[{\"marker\":{\"colorbar\":{\"outlinewidth\":0,\"ticks\":\"\"}},\"type\":\"scatterpolargl\"}],\"scatterternary\":[{\"marker\":{\"colorbar\":{\"outlinewidth\":0,\"ticks\":\"\"}},\"type\":\"scatterternary\"}],\"surface\":[{\"colorbar\":{\"outlinewidth\":0,\"ticks\":\"\"},\"colorscale\":[[0.0,\"#0d0887\"],[0.1111111111111111,\"#46039f\"],[0.2222222222222222,\"#7201a8\"],[0.3333333333333333,\"#9c179e\"],[0.4444444444444444,\"#bd3786\"],[0.5555555555555556,\"#d8576b\"],[0.6666666666666666,\"#ed7953\"],[0.7777777777777778,\"#fb9f3a\"],[0.8888888888888888,\"#fdca26\"],[1.0,\"#f0f921\"]],\"type\":\"surface\"}],\"table\":[{\"cells\":{\"fill\":{\"color\":\"#EBF0F8\"},\"line\":{\"color\":\"white\"}},\"header\":{\"fill\":{\"color\":\"#C8D4E3\"},\"line\":{\"color\":\"white\"}},\"type\":\"table\"}]},\"layout\":{\"annotationdefaults\":{\"arrowcolor\":\"#2a3f5f\",\"arrowhead\":0,\"arrowwidth\":1},\"autotypenumbers\":\"strict\",\"coloraxis\":{\"colorbar\":{\"outlinewidth\":0,\"ticks\":\"\"}},\"colorscale\":{\"diverging\":[[0,\"#8e0152\"],[0.1,\"#c51b7d\"],[0.2,\"#de77ae\"],[0.3,\"#f1b6da\"],[0.4,\"#fde0ef\"],[0.5,\"#f7f7f7\"],[0.6,\"#e6f5d0\"],[0.7,\"#b8e186\"],[0.8,\"#7fbc41\"],[0.9,\"#4d9221\"],[1,\"#276419\"]],\"sequential\":[[0.0,\"#0d0887\"],[0.1111111111111111,\"#46039f\"],[0.2222222222222222,\"#7201a8\"],[0.3333333333333333,\"#9c179e\"],[0.4444444444444444,\"#bd3786\"],[0.5555555555555556,\"#d8576b\"],[0.6666666666666666,\"#ed7953\"],[0.7777777777777778,\"#fb9f3a\"],[0.8888888888888888,\"#fdca26\"],[1.0,\"#f0f921\"]],\"sequentialminus\":[[0.0,\"#0d0887\"],[0.1111111111111111,\"#46039f\"],[0.2222222222222222,\"#7201a8\"],[0.3333333333333333,\"#9c179e\"],[0.4444444444444444,\"#bd3786\"],[0.5555555555555556,\"#d8576b\"],[0.6666666666666666,\"#ed7953\"],[0.7777777777777778,\"#fb9f3a\"],[0.8888888888888888,\"#fdca26\"],[1.0,\"#f0f921\"]]},\"colorway\":[\"#636efa\",\"#EF553B\",\"#00cc96\",\"#ab63fa\",\"#FFA15A\",\"#19d3f3\",\"#FF6692\",\"#B6E880\",\"#FF97FF\",\"#FECB52\"],\"font\":{\"color\":\"#2a3f5f\"},\"geo\":{\"bgcolor\":\"white\",\"lakecolor\":\"white\",\"landcolor\":\"#E5ECF6\",\"showlakes\":true,\"showland\":true,\"subunitcolor\":\"white\"},\"hoverlabel\":{\"align\":\"left\"},\"hovermode\":\"closest\",\"mapbox\":{\"style\":\"light\"},\"paper_bgcolor\":\"white\",\"plot_bgcolor\":\"#E5ECF6\",\"polar\":{\"angularaxis\":{\"gridcolor\":\"white\",\"linecolor\":\"white\",\"ticks\":\"\"},\"bgcolor\":\"#E5ECF6\",\"radialaxis\":{\"gridcolor\":\"white\",\"linecolor\":\"white\",\"ticks\":\"\"}},\"scene\":{\"xaxis\":{\"backgroundcolor\":\"#E5ECF6\",\"gridcolor\":\"white\",\"gridwidth\":2,\"linecolor\":\"white\",\"showbackground\":true,\"ticks\":\"\",\"zerolinecolor\":\"white\"},\"yaxis\":{\"backgroundcolor\":\"#E5ECF6\",\"gridcolor\":\"white\",\"gridwidth\":2,\"linecolor\":\"white\",\"showbackground\":true,\"ticks\":\"\",\"zerolinecolor\":\"white\"},\"zaxis\":{\"backgroundcolor\":\"#E5ECF6\",\"gridcolor\":\"white\",\"gridwidth\":2,\"linecolor\":\"white\",\"showbackground\":true,\"ticks\":\"\",\"zerolinecolor\":\"white\"}},\"shapedefaults\":{\"line\":{\"color\":\"#2a3f5f\"}},\"ternary\":{\"aaxis\":{\"gridcolor\":\"white\",\"linecolor\":\"white\",\"ticks\":\"\"},\"baxis\":{\"gridcolor\":\"white\",\"linecolor\":\"white\",\"ticks\":\"\"},\"bgcolor\":\"#E5ECF6\",\"caxis\":{\"gridcolor\":\"white\",\"linecolor\":\"white\",\"ticks\":\"\"}},\"title\":{\"x\":0.05},\"xaxis\":{\"automargin\":true,\"gridcolor\":\"white\",\"linecolor\":\"white\",\"ticks\":\"\",\"title\":{\"standoff\":15},\"zerolinecolor\":\"white\",\"zerolinewidth\":2},\"yaxis\":{\"automargin\":true,\"gridcolor\":\"white\",\"linecolor\":\"white\",\"ticks\":\"\",\"title\":{\"standoff\":15},\"zerolinecolor\":\"white\",\"zerolinewidth\":2}}},\"scene\":{\"domain\":{\"x\":[0.0,1.0],\"y\":[0.0,1.0]},\"xaxis\":{\"title\":{\"text\":\"Rating\"}},\"yaxis\":{\"title\":{\"text\":\"Scoville\"}},\"zaxis\":{\"title\":{\"text\":\"Peppers\"}}},\"coloraxis\":{\"colorbar\":{\"title\":{\"text\":\"Price\"}},\"colorscale\":[[0.0,\"#0d0887\"],[0.1111111111111111,\"#46039f\"],[0.2222222222222222,\"#7201a8\"],[0.3333333333333333,\"#9c179e\"],[0.4444444444444444,\"#bd3786\"],[0.5555555555555556,\"#d8576b\"],[0.6666666666666666,\"#ed7953\"],[0.7777777777777778,\"#fb9f3a\"],[0.8888888888888888,\"#fdca26\"],[1.0,\"#f0f921\"]]},\"legend\":{\"tracegroupgap\":0},\"margin\":{\"t\":60},\"autosize\":false,\"width\":800,\"height\":400,\"showlegend\":true},                        {\"responsive\": true}                    ).then(function(){\n",
       "                            \n",
       "var gd = document.getElementById('58ab7003-f12b-421d-905d-f297ccc2d974');\n",
       "var x = new MutationObserver(function (mutations, observer) {{\n",
       "        var display = window.getComputedStyle(gd).display;\n",
       "        if (!display || display === 'none') {{\n",
       "            console.log([gd, 'removed!']);\n",
       "            Plotly.purge(gd);\n",
       "            observer.disconnect();\n",
       "        }}\n",
       "}});\n",
       "\n",
       "// Listen for the removal of the full notebook cells\n",
       "var notebookContainer = gd.closest('#notebook-container');\n",
       "if (notebookContainer) {{\n",
       "    x.observe(notebookContainer, {childList: true});\n",
       "}}\n",
       "\n",
       "// Listen for the clearing of the current output cell\n",
       "var outputEl = gd.closest('.output');\n",
       "if (outputEl) {{\n",
       "    x.observe(outputEl, {childList: true});\n",
       "}}\n",
       "\n",
       "                        })                };                });            </script>        </div>"
      ]
     },
     "metadata": {},
     "output_type": "display_data"
    }
   ],
   "source": [
    "fig = px.scatter_3d(pepper_count,  x=\"Rating\", y=\"Scoville\",z='Peppers' )\n",
    "fig.update_layout(autosize=False, width=800, height=400\n",
    "                  , showlegend=True)\n",
    "fig.show()\n"
   ]
  },
  {
   "cell_type": "code",
   "execution_count": null,
   "metadata": {},
   "outputs": [],
   "source": []
  },
  {
   "cell_type": "code",
   "execution_count": null,
   "metadata": {},
   "outputs": [],
   "source": []
  }
 ],
 "metadata": {
  "kernelspec": {
   "display_name": "Python 3 (ipykernel)",
   "language": "python",
   "name": "python3"
  },
  "language_info": {
   "codemirror_mode": {
    "name": "ipython",
    "version": 3
   },
   "file_extension": ".py",
   "mimetype": "text/x-python",
   "name": "python",
   "nbconvert_exporter": "python",
   "pygments_lexer": "ipython3",
   "version": "3.9.9"
  },
  "toc": {
   "base_numbering": 1,
   "nav_menu": {},
   "number_sections": true,
   "sideBar": true,
   "skip_h1_title": false,
   "title_cell": "Table of Contents",
   "title_sidebar": "Contents",
   "toc_cell": false,
   "toc_position": {},
   "toc_section_display": true,
   "toc_window_display": false
  }
 },
 "nbformat": 4,
 "nbformat_minor": 4
}
