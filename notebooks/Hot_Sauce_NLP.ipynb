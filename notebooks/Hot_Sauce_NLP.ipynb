{
 "cells": [
  {
   "cell_type": "markdown",
   "metadata": {
    "id": "R2tKIqYh0zAx"
   },
   "source": [
    "# Hot Sauce NLP\n"
   ]
  },
  {
   "cell_type": "code",
   "execution_count": 1,
   "metadata": {
    "executionInfo": {
     "elapsed": 1043,
     "status": "ok",
     "timestamp": 1621241591029,
     "user": {
      "displayName": "Bruno Lajoie",
      "photoUrl": "https://lh3.googleusercontent.com/a-/AOh14Gg0dl6gThG8gOPbCvHbgt62zQnsi8cgbQ7C5HkD_Cg=s64",
      "userId": "15793030209206844069"
     },
     "user_tz": -120
    },
    "id": "KkhVEDw80zAz"
   },
   "outputs": [],
   "source": [
    "import requests\n",
    "from bs4 import BeautifulSoup\n",
    "\n",
    "import numpy as np\n",
    "import pandas as pd\n",
    "\n",
    "%matplotlib inline\n",
    "import matplotlib"
   ]
  },
  {
   "cell_type": "code",
   "execution_count": 2,
   "metadata": {},
   "outputs": [],
   "source": [
    "def fetch_page(page):\n",
    "    print(f\"scraping page {page + 1}\")\n",
    "    response = requests.get(\n",
    "        f'https://hotsaucefever.com/hotsauce/',\n",
    "        headers={\"Accept-Language\":\"en-US\"}\n",
    "    )\n",
    "    soup = BeautifulSoup(response.content, \"html.parser\")\n",
    "    return soup"
   ]
  },
  {
   "cell_type": "code",
   "execution_count": null,
   "metadata": {},
   "outputs": [],
   "source": []
  },
  {
   "cell_type": "code",
   "execution_count": 280,
   "metadata": {},
   "outputs": [],
   "source": [
    "def add_sauces_to_dict(soup, dict):\n",
    "    for sauce_html in soup.find_all(class_='detail'):\n",
    "        dict['Hot Sauce'].append(sauce_html.find('h2').find('a').string)\n",
    "        dict['Rating'].append(sauce_html.find('h3').find('span').string)\n",
    "        dict['Makers'].append(\n",
    "            sauce_html.find(class_='list-txt').find('text'))"
   ]
  },
  {
   "cell_type": "code",
   "execution_count": 281,
   "metadata": {},
   "outputs": [],
   "source": [
    "sauces_dict = {'Hot Sauce': [], 'Rating': [], 'Makers': []}"
   ]
  },
  {
   "cell_type": "code",
   "execution_count": 282,
   "metadata": {},
   "outputs": [],
   "source": [
    "def create_books_df(max_page):\n",
    "    sauces_dict = {'Hot Sauce': [], 'Rating': [], 'Makers': []}\n",
    "    for page in range(max_page):\n",
    "        soup = fetch_page(page)\n",
    "        add_sauces_to_dict(soup, sauces_dict)\n",
    "    return pd.DataFrame.from_dict(sauces_dict)"
   ]
  },
  {
   "cell_type": "code",
   "execution_count": 283,
   "metadata": {},
   "outputs": [
    {
     "name": "stdout",
     "output_type": "stream",
     "text": [
      "scraping page 1\n"
     ]
    },
    {
     "data": {
      "text/plain": [
       "(25, 3)"
      ]
     },
     "execution_count": 283,
     "metadata": {},
     "output_type": "execute_result"
    }
   ],
   "source": [
    "books_df = create_books_df(1)\n",
    "books_df.shape"
   ]
  },
  {
   "cell_type": "code",
   "execution_count": 279,
   "metadata": {},
   "outputs": [
    {
     "data": {
      "text/html": [
       "<div>\n",
       "<style scoped>\n",
       "    .dataframe tbody tr th:only-of-type {\n",
       "        vertical-align: middle;\n",
       "    }\n",
       "\n",
       "    .dataframe tbody tr th {\n",
       "        vertical-align: top;\n",
       "    }\n",
       "\n",
       "    .dataframe thead th {\n",
       "        text-align: right;\n",
       "    }\n",
       "</style>\n",
       "<table border=\"1\" class=\"dataframe\">\n",
       "  <thead>\n",
       "    <tr style=\"text-align: right;\">\n",
       "      <th></th>\n",
       "      <th>Hot Sauce</th>\n",
       "      <th>Rating</th>\n",
       "      <th>Makers</th>\n",
       "    </tr>\n",
       "  </thead>\n",
       "  <tbody>\n",
       "    <tr>\n",
       "      <th>0</th>\n",
       "      <td>Whitehouse Station Sauce Company - Jalapeño</td>\n",
       "      <td>N/A</td>\n",
       "      <td>None</td>\n",
       "    </tr>\n",
       "    <tr>\n",
       "      <th>1</th>\n",
       "      <td>Jersey Barnfire - Black Garlic</td>\n",
       "      <td>None</td>\n",
       "      <td>None</td>\n",
       "    </tr>\n",
       "    <tr>\n",
       "      <th>2</th>\n",
       "      <td>Roofeeo Landis - Jah Mama Sauce</td>\n",
       "      <td>N/A</td>\n",
       "      <td>None</td>\n",
       "    </tr>\n",
       "    <tr>\n",
       "      <th>3</th>\n",
       "      <td>Ric Orlando's Best - Purple Haze Double Dose</td>\n",
       "      <td>N/A</td>\n",
       "      <td>None</td>\n",
       "    </tr>\n",
       "    <tr>\n",
       "      <th>4</th>\n",
       "      <td>Hell's Kitchen Hot Sauce - Pepper Pastry</td>\n",
       "      <td>N/A</td>\n",
       "      <td>None</td>\n",
       "    </tr>\n",
       "    <tr>\n",
       "      <th>5</th>\n",
       "      <td>Pickle Monster Hot Sauce - Spicy Boi Blend</td>\n",
       "      <td>None</td>\n",
       "      <td>None</td>\n",
       "    </tr>\n",
       "    <tr>\n",
       "      <th>6</th>\n",
       "      <td>Pickle Monster Hot Sauce - Pickle Monster</td>\n",
       "      <td>None</td>\n",
       "      <td>None</td>\n",
       "    </tr>\n",
       "    <tr>\n",
       "      <th>7</th>\n",
       "      <td>Swamp Dragon - Tequila Hot Sauce</td>\n",
       "      <td>None</td>\n",
       "      <td>None</td>\n",
       "    </tr>\n",
       "    <tr>\n",
       "      <th>8</th>\n",
       "      <td>Cepera - Molho de Pimenta Vermelha: Salsa de A...</td>\n",
       "      <td>None</td>\n",
       "      <td>None</td>\n",
       "    </tr>\n",
       "    <tr>\n",
       "      <th>9</th>\n",
       "      <td>Tacoma Sauce Co. - Nero</td>\n",
       "      <td>N/A</td>\n",
       "      <td>None</td>\n",
       "    </tr>\n",
       "    <tr>\n",
       "      <th>10</th>\n",
       "      <td>Encona - Original Hot Pepper Sauce</td>\n",
       "      <td>None</td>\n",
       "      <td>None</td>\n",
       "    </tr>\n",
       "    <tr>\n",
       "      <th>11</th>\n",
       "      <td>Salsa Indomable - Chile Piquín</td>\n",
       "      <td>N/A</td>\n",
       "      <td>None</td>\n",
       "    </tr>\n",
       "    <tr>\n",
       "      <th>12</th>\n",
       "      <td>El Yucateco - Black Label Reserve Chile Habanero</td>\n",
       "      <td>4.7 / 5</td>\n",
       "      <td>None</td>\n",
       "    </tr>\n",
       "    <tr>\n",
       "      <th>13</th>\n",
       "      <td>Walkerswood - Jamaican Firestick Pepper Sauce</td>\n",
       "      <td>None</td>\n",
       "      <td>None</td>\n",
       "    </tr>\n",
       "    <tr>\n",
       "      <th>14</th>\n",
       "      <td>Smok'N Blunt Sauce - Peach Rum Serrano</td>\n",
       "      <td>N/A</td>\n",
       "      <td>None</td>\n",
       "    </tr>\n",
       "    <tr>\n",
       "      <th>15</th>\n",
       "      <td>Smok'N Blunt Sauce - Original Blunt Sauce</td>\n",
       "      <td>N/A</td>\n",
       "      <td>None</td>\n",
       "    </tr>\n",
       "    <tr>\n",
       "      <th>16</th>\n",
       "      <td>Smok'N Blunt Sauce - Ghost Pepper Pineapple</td>\n",
       "      <td>N/A</td>\n",
       "      <td>None</td>\n",
       "    </tr>\n",
       "    <tr>\n",
       "      <th>17</th>\n",
       "      <td>Smok'N Blunt Sauce - Chipotle Habanero Mango</td>\n",
       "      <td>N/A</td>\n",
       "      <td>None</td>\n",
       "    </tr>\n",
       "    <tr>\n",
       "      <th>18</th>\n",
       "      <td>Don Hotsauce - Habanero &amp; Reaper</td>\n",
       "      <td>N/A</td>\n",
       "      <td>None</td>\n",
       "    </tr>\n",
       "    <tr>\n",
       "      <th>19</th>\n",
       "      <td>High River Sauces - Cheeba Gold</td>\n",
       "      <td>None</td>\n",
       "      <td>None</td>\n",
       "    </tr>\n",
       "    <tr>\n",
       "      <th>20</th>\n",
       "      <td>Iggy's - Fermented Habanero Hot Sauce</td>\n",
       "      <td>N/A</td>\n",
       "      <td>None</td>\n",
       "    </tr>\n",
       "    <tr>\n",
       "      <th>21</th>\n",
       "      <td>Bullwhip - Kelp Hot Sauce</td>\n",
       "      <td>N/A</td>\n",
       "      <td>None</td>\n",
       "    </tr>\n",
       "    <tr>\n",
       "      <th>22</th>\n",
       "      <td>oo'mämē - Moroccan Chile Crisp</td>\n",
       "      <td>N/A</td>\n",
       "      <td>None</td>\n",
       "    </tr>\n",
       "    <tr>\n",
       "      <th>23</th>\n",
       "      <td>oo'mämē - Indian Chile Crisp</td>\n",
       "      <td>N/A</td>\n",
       "      <td>None</td>\n",
       "    </tr>\n",
       "    <tr>\n",
       "      <th>24</th>\n",
       "      <td>Tres Bien Cajun Cuisine - DTR Sauce</td>\n",
       "      <td>5.0 / 5</td>\n",
       "      <td>None</td>\n",
       "    </tr>\n",
       "  </tbody>\n",
       "</table>\n",
       "</div>"
      ],
      "text/plain": [
       "                                            Hot Sauce   Rating Makers\n",
       "0        Whitehouse Station Sauce Company - Jalapeño       N/A   None\n",
       "1                      Jersey Barnfire - Black Garlic     None   None\n",
       "2                    Roofeeo Landis - Jah Mama Sauce       N/A   None\n",
       "3        Ric Orlando's Best - Purple Haze Double Dose      N/A   None\n",
       "4            Hell's Kitchen Hot Sauce - Pepper Pastry      N/A   None\n",
       "5          Pickle Monster Hot Sauce - Spicy Boi Blend     None   None\n",
       "6           Pickle Monster Hot Sauce - Pickle Monster     None   None\n",
       "7                    Swamp Dragon - Tequila Hot Sauce     None   None\n",
       "8   Cepera - Molho de Pimenta Vermelha: Salsa de A...     None   None\n",
       "9                             Tacoma Sauce Co. - Nero      N/A   None\n",
       "10                 Encona - Original Hot Pepper Sauce     None   None\n",
       "11                     Salsa Indomable - Chile Piquín      N/A   None\n",
       "12   El Yucateco - Black Label Reserve Chile Habanero  4.7 / 5   None\n",
       "13      Walkerswood - Jamaican Firestick Pepper Sauce     None   None\n",
       "14            Smok'N Blunt Sauce - Peach Rum Serrano       N/A   None\n",
       "15         Smok'N Blunt Sauce - Original Blunt Sauce       N/A   None\n",
       "16       Smok'N Blunt Sauce - Ghost Pepper Pineapple       N/A   None\n",
       "17      Smok'N Blunt Sauce - Chipotle Habanero Mango       N/A   None\n",
       "18                   Don Hotsauce - Habanero & Reaper      N/A   None\n",
       "19                    High River Sauces - Cheeba Gold     None   None\n",
       "20              Iggy's - Fermented Habanero Hot Sauce      N/A   None\n",
       "21                          Bullwhip - Kelp Hot Sauce      N/A   None\n",
       "22                     oo'mämē - Moroccan Chile Crisp      N/A   None\n",
       "23                       oo'mämē - Indian Chile Crisp      N/A   None\n",
       "24                Tres Bien Cajun Cuisine - DTR Sauce  5.0 / 5   None"
      ]
     },
     "execution_count": 279,
     "metadata": {},
     "output_type": "execute_result"
    }
   ],
   "source": [
    "books_df.dtypes\n",
    "books_df\n"
   ]
  },
  {
   "cell_type": "code",
   "execution_count": null,
   "metadata": {},
   "outputs": [],
   "source": []
  },
  {
   "cell_type": "code",
   "execution_count": null,
   "metadata": {},
   "outputs": [],
   "source": []
  }
 ],
 "metadata": {
  "kernelspec": {
   "display_name": "Python 3 (ipykernel)",
   "language": "python",
   "name": "python3"
  },
  "language_info": {
   "codemirror_mode": {
    "name": "ipython",
    "version": 3
   },
   "file_extension": ".py",
   "mimetype": "text/x-python",
   "name": "python",
   "nbconvert_exporter": "python",
   "pygments_lexer": "ipython3",
   "version": "3.9.9"
  },
  "toc": {
   "base_numbering": 1,
   "nav_menu": {},
   "number_sections": true,
   "sideBar": true,
   "skip_h1_title": false,
   "title_cell": "Table of Contents",
   "title_sidebar": "Contents",
   "toc_cell": false,
   "toc_position": {},
   "toc_section_display": true,
   "toc_window_display": false
  }
 },
 "nbformat": 4,
 "nbformat_minor": 4
}
